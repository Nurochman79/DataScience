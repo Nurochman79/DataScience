{
  "nbformat": 4,
  "nbformat_minor": 0,
  "metadata": {
    "colab": {
      "provenance": [],
      "collapsed_sections": [],
      "authorship_tag": "ABX9TyOcGYivMmj2G6j4bEkGkImd",
      "include_colab_link": true
    },
    "kernelspec": {
      "name": "python3",
      "display_name": "Python 3"
    },
    "language_info": {
      "name": "python"
    }
  },
  "cells": [
    {
      "cell_type": "markdown",
      "metadata": {
        "id": "view-in-github",
        "colab_type": "text"
      },
      "source": [
        "<a href=\"https://colab.research.google.com/github/Nurochman79/DataScience/blob/main/Prediction_of_landing_objective_by_KNN.ipynb\" target=\"_parent\"><img src=\"https://colab.research.google.com/assets/colab-badge.svg\" alt=\"Open In Colab\"/></a>"
      ]
    },
    {
      "cell_type": "markdown",
      "source": [
        "This  case study has an objective to develop mechine learning for prediction of landing purpose by K-Nearest Neighbors (KNN). We use german_credit_dataset. KNN is one of olgorithm -supervise learning model. This algoritme will clasify the new data based on sameless with K (number) around it (nearest). In this case we find the best K is 14 for 15 sample . In other hand we try to apply Factor Analyzer (analysis relation between feature) and PCA to reduce feature for modeling."
      ],
      "metadata": {
        "id": "Ex_emYfCCODG"
      }
    },
    {
      "cell_type": "code",
      "execution_count": null,
      "metadata": {
        "colab": {
          "base_uri": "https://localhost:8080/",
          "height": 363
        },
        "id": "LxrP2nVluJCc",
        "outputId": "64cf5e23-5660-487e-a60d-d78aebe149a9"
      },
      "outputs": [
        {
          "output_type": "execute_result",
          "data": {
            "text/plain": [
              "   Unnamed: 0  Age     Sex  Job Housing Saving accounts Checking account  \\\n",
              "0           0   67    male    2     own             NaN           little   \n",
              "1           1   22  female    2     own          little         moderate   \n",
              "2           2   49    male    1     own          little              NaN   \n",
              "3           3   45    male    2    free          little           little   \n",
              "4           4   53    male    2    free          little           little   \n",
              "5           5   35    male    1    free             NaN              NaN   \n",
              "6           6   53    male    2     own      quite rich              NaN   \n",
              "7           7   35    male    3    rent          little         moderate   \n",
              "8           8   61    male    1     own            rich              NaN   \n",
              "9           9   28    male    3     own          little         moderate   \n",
              "\n",
              "   Credit amount  Duration              Purpose  \n",
              "0           1169         6             radio/TV  \n",
              "1           5951        48             radio/TV  \n",
              "2           2096        12            education  \n",
              "3           7882        42  furniture/equipment  \n",
              "4           4870        24                  car  \n",
              "5           9055        36            education  \n",
              "6           2835        24  furniture/equipment  \n",
              "7           6948        36                  car  \n",
              "8           3059        12             radio/TV  \n",
              "9           5234        30                  car  "
            ],
            "text/html": [
              "\n",
              "  <div id=\"df-268d0c4a-7092-412d-8458-cc89e6e865ae\">\n",
              "    <div class=\"colab-df-container\">\n",
              "      <div>\n",
              "<style scoped>\n",
              "    .dataframe tbody tr th:only-of-type {\n",
              "        vertical-align: middle;\n",
              "    }\n",
              "\n",
              "    .dataframe tbody tr th {\n",
              "        vertical-align: top;\n",
              "    }\n",
              "\n",
              "    .dataframe thead th {\n",
              "        text-align: right;\n",
              "    }\n",
              "</style>\n",
              "<table border=\"1\" class=\"dataframe\">\n",
              "  <thead>\n",
              "    <tr style=\"text-align: right;\">\n",
              "      <th></th>\n",
              "      <th>Unnamed: 0</th>\n",
              "      <th>Age</th>\n",
              "      <th>Sex</th>\n",
              "      <th>Job</th>\n",
              "      <th>Housing</th>\n",
              "      <th>Saving accounts</th>\n",
              "      <th>Checking account</th>\n",
              "      <th>Credit amount</th>\n",
              "      <th>Duration</th>\n",
              "      <th>Purpose</th>\n",
              "    </tr>\n",
              "  </thead>\n",
              "  <tbody>\n",
              "    <tr>\n",
              "      <th>0</th>\n",
              "      <td>0</td>\n",
              "      <td>67</td>\n",
              "      <td>male</td>\n",
              "      <td>2</td>\n",
              "      <td>own</td>\n",
              "      <td>NaN</td>\n",
              "      <td>little</td>\n",
              "      <td>1169</td>\n",
              "      <td>6</td>\n",
              "      <td>radio/TV</td>\n",
              "    </tr>\n",
              "    <tr>\n",
              "      <th>1</th>\n",
              "      <td>1</td>\n",
              "      <td>22</td>\n",
              "      <td>female</td>\n",
              "      <td>2</td>\n",
              "      <td>own</td>\n",
              "      <td>little</td>\n",
              "      <td>moderate</td>\n",
              "      <td>5951</td>\n",
              "      <td>48</td>\n",
              "      <td>radio/TV</td>\n",
              "    </tr>\n",
              "    <tr>\n",
              "      <th>2</th>\n",
              "      <td>2</td>\n",
              "      <td>49</td>\n",
              "      <td>male</td>\n",
              "      <td>1</td>\n",
              "      <td>own</td>\n",
              "      <td>little</td>\n",
              "      <td>NaN</td>\n",
              "      <td>2096</td>\n",
              "      <td>12</td>\n",
              "      <td>education</td>\n",
              "    </tr>\n",
              "    <tr>\n",
              "      <th>3</th>\n",
              "      <td>3</td>\n",
              "      <td>45</td>\n",
              "      <td>male</td>\n",
              "      <td>2</td>\n",
              "      <td>free</td>\n",
              "      <td>little</td>\n",
              "      <td>little</td>\n",
              "      <td>7882</td>\n",
              "      <td>42</td>\n",
              "      <td>furniture/equipment</td>\n",
              "    </tr>\n",
              "    <tr>\n",
              "      <th>4</th>\n",
              "      <td>4</td>\n",
              "      <td>53</td>\n",
              "      <td>male</td>\n",
              "      <td>2</td>\n",
              "      <td>free</td>\n",
              "      <td>little</td>\n",
              "      <td>little</td>\n",
              "      <td>4870</td>\n",
              "      <td>24</td>\n",
              "      <td>car</td>\n",
              "    </tr>\n",
              "    <tr>\n",
              "      <th>5</th>\n",
              "      <td>5</td>\n",
              "      <td>35</td>\n",
              "      <td>male</td>\n",
              "      <td>1</td>\n",
              "      <td>free</td>\n",
              "      <td>NaN</td>\n",
              "      <td>NaN</td>\n",
              "      <td>9055</td>\n",
              "      <td>36</td>\n",
              "      <td>education</td>\n",
              "    </tr>\n",
              "    <tr>\n",
              "      <th>6</th>\n",
              "      <td>6</td>\n",
              "      <td>53</td>\n",
              "      <td>male</td>\n",
              "      <td>2</td>\n",
              "      <td>own</td>\n",
              "      <td>quite rich</td>\n",
              "      <td>NaN</td>\n",
              "      <td>2835</td>\n",
              "      <td>24</td>\n",
              "      <td>furniture/equipment</td>\n",
              "    </tr>\n",
              "    <tr>\n",
              "      <th>7</th>\n",
              "      <td>7</td>\n",
              "      <td>35</td>\n",
              "      <td>male</td>\n",
              "      <td>3</td>\n",
              "      <td>rent</td>\n",
              "      <td>little</td>\n",
              "      <td>moderate</td>\n",
              "      <td>6948</td>\n",
              "      <td>36</td>\n",
              "      <td>car</td>\n",
              "    </tr>\n",
              "    <tr>\n",
              "      <th>8</th>\n",
              "      <td>8</td>\n",
              "      <td>61</td>\n",
              "      <td>male</td>\n",
              "      <td>1</td>\n",
              "      <td>own</td>\n",
              "      <td>rich</td>\n",
              "      <td>NaN</td>\n",
              "      <td>3059</td>\n",
              "      <td>12</td>\n",
              "      <td>radio/TV</td>\n",
              "    </tr>\n",
              "    <tr>\n",
              "      <th>9</th>\n",
              "      <td>9</td>\n",
              "      <td>28</td>\n",
              "      <td>male</td>\n",
              "      <td>3</td>\n",
              "      <td>own</td>\n",
              "      <td>little</td>\n",
              "      <td>moderate</td>\n",
              "      <td>5234</td>\n",
              "      <td>30</td>\n",
              "      <td>car</td>\n",
              "    </tr>\n",
              "  </tbody>\n",
              "</table>\n",
              "</div>\n",
              "      <button class=\"colab-df-convert\" onclick=\"convertToInteractive('df-268d0c4a-7092-412d-8458-cc89e6e865ae')\"\n",
              "              title=\"Convert this dataframe to an interactive table.\"\n",
              "              style=\"display:none;\">\n",
              "        \n",
              "  <svg xmlns=\"http://www.w3.org/2000/svg\" height=\"24px\"viewBox=\"0 0 24 24\"\n",
              "       width=\"24px\">\n",
              "    <path d=\"M0 0h24v24H0V0z\" fill=\"none\"/>\n",
              "    <path d=\"M18.56 5.44l.94 2.06.94-2.06 2.06-.94-2.06-.94-.94-2.06-.94 2.06-2.06.94zm-11 1L8.5 8.5l.94-2.06 2.06-.94-2.06-.94L8.5 2.5l-.94 2.06-2.06.94zm10 10l.94 2.06.94-2.06 2.06-.94-2.06-.94-.94-2.06-.94 2.06-2.06.94z\"/><path d=\"M17.41 7.96l-1.37-1.37c-.4-.4-.92-.59-1.43-.59-.52 0-1.04.2-1.43.59L10.3 9.45l-7.72 7.72c-.78.78-.78 2.05 0 2.83L4 21.41c.39.39.9.59 1.41.59.51 0 1.02-.2 1.41-.59l7.78-7.78 2.81-2.81c.8-.78.8-2.07 0-2.86zM5.41 20L4 18.59l7.72-7.72 1.47 1.35L5.41 20z\"/>\n",
              "  </svg>\n",
              "      </button>\n",
              "      \n",
              "  <style>\n",
              "    .colab-df-container {\n",
              "      display:flex;\n",
              "      flex-wrap:wrap;\n",
              "      gap: 12px;\n",
              "    }\n",
              "\n",
              "    .colab-df-convert {\n",
              "      background-color: #E8F0FE;\n",
              "      border: none;\n",
              "      border-radius: 50%;\n",
              "      cursor: pointer;\n",
              "      display: none;\n",
              "      fill: #1967D2;\n",
              "      height: 32px;\n",
              "      padding: 0 0 0 0;\n",
              "      width: 32px;\n",
              "    }\n",
              "\n",
              "    .colab-df-convert:hover {\n",
              "      background-color: #E2EBFA;\n",
              "      box-shadow: 0px 1px 2px rgba(60, 64, 67, 0.3), 0px 1px 3px 1px rgba(60, 64, 67, 0.15);\n",
              "      fill: #174EA6;\n",
              "    }\n",
              "\n",
              "    [theme=dark] .colab-df-convert {\n",
              "      background-color: #3B4455;\n",
              "      fill: #D2E3FC;\n",
              "    }\n",
              "\n",
              "    [theme=dark] .colab-df-convert:hover {\n",
              "      background-color: #434B5C;\n",
              "      box-shadow: 0px 1px 3px 1px rgba(0, 0, 0, 0.15);\n",
              "      filter: drop-shadow(0px 1px 2px rgba(0, 0, 0, 0.3));\n",
              "      fill: #FFFFFF;\n",
              "    }\n",
              "  </style>\n",
              "\n",
              "      <script>\n",
              "        const buttonEl =\n",
              "          document.querySelector('#df-268d0c4a-7092-412d-8458-cc89e6e865ae button.colab-df-convert');\n",
              "        buttonEl.style.display =\n",
              "          google.colab.kernel.accessAllowed ? 'block' : 'none';\n",
              "\n",
              "        async function convertToInteractive(key) {\n",
              "          const element = document.querySelector('#df-268d0c4a-7092-412d-8458-cc89e6e865ae');\n",
              "          const dataTable =\n",
              "            await google.colab.kernel.invokeFunction('convertToInteractive',\n",
              "                                                     [key], {});\n",
              "          if (!dataTable) return;\n",
              "\n",
              "          const docLinkHtml = 'Like what you see? Visit the ' +\n",
              "            '<a target=\"_blank\" href=https://colab.research.google.com/notebooks/data_table.ipynb>data table notebook</a>'\n",
              "            + ' to learn more about interactive tables.';\n",
              "          element.innerHTML = '';\n",
              "          dataTable['output_type'] = 'display_data';\n",
              "          await google.colab.output.renderOutput(dataTable, element);\n",
              "          const docLink = document.createElement('div');\n",
              "          docLink.innerHTML = docLinkHtml;\n",
              "          element.appendChild(docLink);\n",
              "        }\n",
              "      </script>\n",
              "    </div>\n",
              "  </div>\n",
              "  "
            ]
          },
          "metadata": {},
          "execution_count": 347
        }
      ],
      "source": [
        "#import library \n",
        "import numpy as np\n",
        "import pandas as pd\n",
        "import matplotlib.pyplot as plt\n",
        "import seaborn as sns\n",
        "%matplotlib inline\n",
        "#Load data set and show data\n",
        "df = pd.read_csv('/content/german_credit_data.csv')\n",
        "df.head(10)"
      ]
    },
    {
      "cell_type": "markdown",
      "source": [
        "**1.DATA PREPOCSSING**"
      ],
      "metadata": {
        "id": "E1CDlYsoF420"
      }
    },
    {
      "cell_type": "code",
      "source": [
        "#We drop column \"Unnamed:0\"\n",
        "df.drop('Unnamed: 0', axis=1, inplace=True)"
      ],
      "metadata": {
        "id": "iyf-M3AIChHW"
      },
      "execution_count": null,
      "outputs": []
    },
    {
      "cell_type": "code",
      "source": [
        "#We can find the demension of dataset\n",
        "df.shape\n",
        "#We get a number of rows (1000) and a number of columns(10)"
      ],
      "metadata": {
        "colab": {
          "base_uri": "https://localhost:8080/"
        },
        "id": "wyCGVAhf0A2R",
        "outputId": "ce2b6f5b-9461-46b1-b525-b1fc563fe087"
      },
      "execution_count": null,
      "outputs": [
        {
          "output_type": "execute_result",
          "data": {
            "text/plain": [
              "(1000, 9)"
            ]
          },
          "metadata": {},
          "execution_count": 349
        }
      ]
    },
    {
      "cell_type": "code",
      "source": [
        "#We can find the number of missing value (NA/null) for each columns. \n",
        "#In this dataset, we find missing value 183 in \"Saving accounts \" and 394 in \"Checking account\"\n",
        "df.info()"
      ],
      "metadata": {
        "colab": {
          "base_uri": "https://localhost:8080/"
        },
        "id": "UEsgb9Db2TRR",
        "outputId": "eb5b6031-31b3-4a58-a14a-b5db078328fe"
      },
      "execution_count": null,
      "outputs": [
        {
          "output_type": "stream",
          "name": "stdout",
          "text": [
            "<class 'pandas.core.frame.DataFrame'>\n",
            "RangeIndex: 1000 entries, 0 to 999\n",
            "Data columns (total 9 columns):\n",
            " #   Column            Non-Null Count  Dtype \n",
            "---  ------            --------------  ----- \n",
            " 0   Age               1000 non-null   int64 \n",
            " 1   Sex               1000 non-null   object\n",
            " 2   Job               1000 non-null   int64 \n",
            " 3   Housing           1000 non-null   object\n",
            " 4   Saving accounts   817 non-null    object\n",
            " 5   Checking account  606 non-null    object\n",
            " 6   Credit amount     1000 non-null   int64 \n",
            " 7   Duration          1000 non-null   int64 \n",
            " 8   Purpose           1000 non-null   object\n",
            "dtypes: int64(4), object(5)\n",
            "memory usage: 70.4+ KB\n"
          ]
        }
      ]
    },
    {
      "cell_type": "code",
      "source": [
        "#We check the number of each data in \"Saving accounts\" column\n",
        "df['Saving accounts'].value_counts()"
      ],
      "metadata": {
        "colab": {
          "base_uri": "https://localhost:8080/"
        },
        "id": "bwrKa9d82X8H",
        "outputId": "aa513640-9c32-4e84-e746-4f13ff4a9384"
      },
      "execution_count": null,
      "outputs": [
        {
          "output_type": "execute_result",
          "data": {
            "text/plain": [
              "little        603\n",
              "moderate      103\n",
              "quite rich     63\n",
              "rich           48\n",
              "Name: Saving accounts, dtype: int64"
            ]
          },
          "metadata": {},
          "execution_count": 352
        }
      ]
    },
    {
      "cell_type": "code",
      "source": [
        "#We chaeck the number of each data ini \"Checking account\" column\n",
        "df['Checking account'].value_counts()"
      ],
      "metadata": {
        "colab": {
          "base_uri": "https://localhost:8080/"
        },
        "id": "01jsF0cSAt4X",
        "outputId": "452dbd20-2db0-49ef-c7f2-366adf1b532c"
      },
      "execution_count": null,
      "outputs": [
        {
          "output_type": "execute_result",
          "data": {
            "text/plain": [
              "little      274\n",
              "moderate    269\n",
              "rich         63\n",
              "Name: Checking account, dtype: int64"
            ]
          },
          "metadata": {},
          "execution_count": 353
        }
      ]
    },
    {
      "cell_type": "markdown",
      "source": [
        "We replace all missing values in \"Saving accounts\" and \"Checking account\" by mode value \" little\""
      ],
      "metadata": {
        "id": "I1ZBuhScI29M"
      }
    },
    {
      "cell_type": "code",
      "source": [
        "df['Saving accounts'].fillna('little', axis=0, inplace=True)"
      ],
      "metadata": {
        "id": "e0j9vmJP4KUQ"
      },
      "execution_count": null,
      "outputs": []
    },
    {
      "cell_type": "code",
      "source": [
        "df['Checking account'].fillna('little', axis=0, inplace=True)"
      ],
      "metadata": {
        "id": "DbnGHrSk30jg"
      },
      "execution_count": null,
      "outputs": []
    },
    {
      "cell_type": "code",
      "source": [
        "df['Saving accounts'].value_counts()"
      ],
      "metadata": {
        "colab": {
          "base_uri": "https://localhost:8080/"
        },
        "id": "8Oa5FtJeBcdJ",
        "outputId": "8a7df0e8-39b2-4c0b-d54d-5cdeb8a4abb0"
      },
      "execution_count": null,
      "outputs": [
        {
          "output_type": "execute_result",
          "data": {
            "text/plain": [
              "little        786\n",
              "moderate      103\n",
              "quite rich     63\n",
              "rich           48\n",
              "Name: Saving accounts, dtype: int64"
            ]
          },
          "metadata": {},
          "execution_count": 356
        }
      ]
    },
    {
      "cell_type": "code",
      "source": [
        "df['Checking account'].value_counts()"
      ],
      "metadata": {
        "colab": {
          "base_uri": "https://localhost:8080/"
        },
        "id": "3yeWmUWNBjHw",
        "outputId": "cd74d38b-702d-444a-8cde-a049f42b403c"
      },
      "execution_count": null,
      "outputs": [
        {
          "output_type": "execute_result",
          "data": {
            "text/plain": [
              "little      668\n",
              "moderate    269\n",
              "rich         63\n",
              "Name: Checking account, dtype: int64"
            ]
          },
          "metadata": {},
          "execution_count": 357
        }
      ]
    },
    {
      "cell_type": "markdown",
      "source": [
        "Now there is not missing value in dataset as we can see below. Each column has 1000 Non-Null."
      ],
      "metadata": {
        "id": "cdX7-01wIz8D"
      }
    },
    {
      "cell_type": "code",
      "source": [
        "df.info()"
      ],
      "metadata": {
        "id": "lIbJqoNm4Vs_",
        "colab": {
          "base_uri": "https://localhost:8080/"
        },
        "outputId": "62a9ed52-3310-4010-cedb-09ae264f822e"
      },
      "execution_count": null,
      "outputs": [
        {
          "output_type": "stream",
          "name": "stdout",
          "text": [
            "<class 'pandas.core.frame.DataFrame'>\n",
            "RangeIndex: 1000 entries, 0 to 999\n",
            "Data columns (total 9 columns):\n",
            " #   Column            Non-Null Count  Dtype \n",
            "---  ------            --------------  ----- \n",
            " 0   Age               1000 non-null   int64 \n",
            " 1   Sex               1000 non-null   object\n",
            " 2   Job               1000 non-null   int64 \n",
            " 3   Housing           1000 non-null   object\n",
            " 4   Saving accounts   1000 non-null   object\n",
            " 5   Checking account  1000 non-null   object\n",
            " 6   Credit amount     1000 non-null   int64 \n",
            " 7   Duration          1000 non-null   int64 \n",
            " 8   Purpose           1000 non-null   object\n",
            "dtypes: int64(4), object(5)\n",
            "memory usage: 70.4+ KB\n"
          ]
        }
      ]
    },
    {
      "cell_type": "code",
      "source": [
        "df.duplicated().sum() # No duplicated data in dataset"
      ],
      "metadata": {
        "colab": {
          "base_uri": "https://localhost:8080/"
        },
        "id": "P0B32N3RQ298",
        "outputId": "c5da3f24-8f74-4eb7-ae34-145c529c4a89"
      },
      "execution_count": null,
      "outputs": [
        {
          "output_type": "execute_result",
          "data": {
            "text/plain": [
              "0"
            ]
          },
          "metadata": {},
          "execution_count": 359
        }
      ]
    },
    {
      "cell_type": "markdown",
      "source": [
        "We rename the columns of \"Credit amount\" to make sure no problem during outlier handling."
      ],
      "metadata": {
        "id": "zq4ooKMAxrbH"
      }
    },
    {
      "cell_type": "code",
      "source": [
        "df.rename(columns=({\"Credit amount\":\"Credit_amount\"}), inplace=True)"
      ],
      "metadata": {
        "id": "vQ-xAgrHwcCR"
      },
      "execution_count": null,
      "outputs": []
    },
    {
      "cell_type": "code",
      "source": [
        "df.info()"
      ],
      "metadata": {
        "colab": {
          "base_uri": "https://localhost:8080/"
        },
        "id": "Hin_J908zO4a",
        "outputId": "a732a14d-9a77-4292-8737-51599528898e"
      },
      "execution_count": null,
      "outputs": [
        {
          "output_type": "stream",
          "name": "stdout",
          "text": [
            "<class 'pandas.core.frame.DataFrame'>\n",
            "RangeIndex: 1000 entries, 0 to 999\n",
            "Data columns (total 9 columns):\n",
            " #   Column            Non-Null Count  Dtype \n",
            "---  ------            --------------  ----- \n",
            " 0   Age               1000 non-null   int64 \n",
            " 1   Sex               1000 non-null   object\n",
            " 2   Job               1000 non-null   int64 \n",
            " 3   Housing           1000 non-null   object\n",
            " 4   Saving accounts   1000 non-null   object\n",
            " 5   Checking account  1000 non-null   object\n",
            " 6   Credit_amount     1000 non-null   int64 \n",
            " 7   Duration          1000 non-null   int64 \n",
            " 8   Purpose           1000 non-null   object\n",
            "dtypes: int64(4), object(5)\n",
            "memory usage: 70.4+ KB\n"
          ]
        }
      ]
    },
    {
      "cell_type": "markdown",
      "source": [
        "We define which the feature columns and traget column"
      ],
      "metadata": {
        "id": "40FQOvO8J_sp"
      }
    },
    {
      "cell_type": "code",
      "source": [
        "df_features = df.drop('Purpose', axis=1)\n",
        "df_target = df['Purpose']\n",
        "y=df_target"
      ],
      "metadata": {
        "id": "iL9ttDCc7gcI"
      },
      "execution_count": null,
      "outputs": []
    },
    {
      "cell_type": "markdown",
      "source": [
        "**Outlier handling**"
      ],
      "metadata": {
        "id": "DlLIWSeXyG8x"
      }
    },
    {
      "cell_type": "code",
      "source": [
        "df['Age'].plot(kind='box')\n",
        "plt.title('Age of debitor', size=16)\n",
        "plt.show()"
      ],
      "metadata": {
        "colab": {
          "base_uri": "https://localhost:8080/",
          "height": 283
        },
        "id": "HgxJ8I78TGdO",
        "outputId": "4b8dd7ab-c071-4d8d-f3c0-80f2658ce2fe"
      },
      "execution_count": null,
      "outputs": [
        {
          "output_type": "display_data",
          "data": {
            "text/plain": [
              "<Figure size 432x288 with 1 Axes>"
            ],
            "image/png": "[encoded data removed]"
          },
          "metadata": {
            "needs_background": "light"
          }
        }
      ]
    },
    {
      "cell_type": "code",
      "source": [
        "Q1 = df['Age'].quantile(0.25) # Finding Q1 value\n",
        "Q3 = df['Age'].quantile(0.75) # Finding Q3 value\n",
        "IQR = Q3-Q1 # Calculating IQR\n",
        "print('Q1 = ', Q1)\n",
        "print('Q3 = ', Q3)\n",
        "print('IQR Age = ', IQR)\n"
      ],
      "metadata": {
        "colab": {
          "base_uri": "https://localhost:8080/"
        },
        "id": "v9iHBqFtU0Qg",
        "outputId": "2e03be21-4998-49eb-8b68-b3f95e8b14be"
      },
      "execution_count": null,
      "outputs": [
        {
          "output_type": "stream",
          "name": "stdout",
          "text": [
            "Q1 =  27.0\n",
            "Q3 =  42.0\n",
            "IQR Age =  15.0\n"
          ]
        }
      ]
    },
    {
      "cell_type": "code",
      "source": [
        "nilai_min = df['Age'].min() # Finding min.value\n",
        "nilai_max = df['Age'].max() # Finding max.value\n",
        " \n",
        "min_IQR = Q1 - 1.5 * IQR # Calculating min. IQR\n",
        "max_IQR = Q3 + 1.5 * IQR # Calculating max. IQR\n",
        " \n",
        "# Conditional to find low outlier\n",
        "if (nilai_min < min_IQR): \n",
        " print('Low outlier is found <', min_IQR)\n",
        " # Showing low outlier index \n",
        " print('Low Outlier Index :', list(df[df['Age'] < min_IQR].index)) \n",
        " \n",
        "# Conditional to find high outlier\n",
        "if (nilai_max > max_IQR):\n",
        " print('High outlier is found >', max_IQR)\n",
        " # Showing high outlier index \n",
        " print('High outlier Index : ', list(df[df['Age'] > max_IQR].index)) "
      ],
      "metadata": {
        "colab": {
          "base_uri": "https://localhost:8080/"
        },
        "id": "YfzsLmlCUHXZ",
        "outputId": "7650891d-ce9a-4be2-8b30-a34c76ebee9d"
      },
      "execution_count": null,
      "outputs": [
        {
          "output_type": "stream",
          "name": "stdout",
          "text": [
            "High outlier is found > 64.5\n",
            "High outlier Index :  [0, 75, 137, 163, 179, 186, 187, 213, 330, 430, 438, 536, 554, 606, 624, 723, 756, 774, 779, 807, 846, 883, 917]\n"
          ]
        }
      ]
    },
    {
      "cell_type": "code",
      "source": [
        "df=df.drop([0, 75, 137, 163, 179, 186, 187, 213, 330, 430, 438, 536, 554, 606, 624, 723, 756, 774, 779, 807, 846, 883, 917], axis=0)"
      ],
      "metadata": {
        "id": "etFRi1b7V9PJ"
      },
      "execution_count": null,
      "outputs": []
    },
    {
      "cell_type": "code",
      "source": [
        "df['Age'].plot(kind='box')\n",
        "plt.title('Age of debitor', size=16)\n",
        "plt.show()"
      ],
      "metadata": {
        "colab": {
          "base_uri": "https://localhost:8080/",
          "height": 283
        },
        "id": "G0uAYRtqztRg",
        "outputId": "0fa9fddb-8167-4a4a-dd20-4b20af248a08"
      },
      "execution_count": null,
      "outputs": [
        {
          "output_type": "display_data",
          "data": {
            "text/plain": [
              "<Figure size 432x288 with 1 Axes>"
            ],
            "image/png": "[encoded data removed]"
          },
          "metadata": {
            "needs_background": "light"
          }
        }
      ]
    },
    {
      "cell_type": "code",
      "source": [
        "df=df.drop(df[df.Age > 60].index, axis=0)"
      ],
      "metadata": {
        "id": "rMHck5qldPvf"
      },
      "execution_count": null,
      "outputs": []
    },
    {
      "cell_type": "code",
      "source": [
        "df['Age'].plot(kind='box')\n",
        "plt.title('Age of debitor', size=16)\n",
        "plt.show()"
      ],
      "metadata": {
        "colab": {
          "base_uri": "https://localhost:8080/",
          "height": 283
        },
        "id": "jdyD0Nhea2Dv",
        "outputId": "ac510c64-14b5-4307-e888-76e506092a8c"
      },
      "execution_count": null,
      "outputs": [
        {
          "output_type": "display_data",
          "data": {
            "text/plain": [
              "<Figure size 432x288 with 1 Axes>"
            ],
            "image/png": "[encoded data removed]"
          },
          "metadata": {
            "needs_background": "light"
          }
        }
      ]
    },
    {
      "cell_type": "code",
      "source": [
        "df.info()"
      ],
      "metadata": {
        "colab": {
          "base_uri": "https://localhost:8080/"
        },
        "id": "lP6Y6FWwWct4",
        "outputId": "76c5bfb7-7529-4b16-a3e1-31e4af3c3be4"
      },
      "execution_count": null,
      "outputs": [
        {
          "output_type": "stream",
          "name": "stdout",
          "text": [
            "<class 'pandas.core.frame.DataFrame'>\n",
            "Int64Index: 955 entries, 1 to 999\n",
            "Data columns (total 9 columns):\n",
            " #   Column            Non-Null Count  Dtype \n",
            "---  ------            --------------  ----- \n",
            " 0   Age               955 non-null    int64 \n",
            " 1   Sex               955 non-null    object\n",
            " 2   Job               955 non-null    int64 \n",
            " 3   Housing           955 non-null    object\n",
            " 4   Saving accounts   955 non-null    object\n",
            " 5   Checking account  955 non-null    object\n",
            " 6   Credit_amount     955 non-null    int64 \n",
            " 7   Duration          955 non-null    int64 \n",
            " 8   Purpose           955 non-null    object\n",
            "dtypes: int64(4), object(5)\n",
            "memory usage: 74.6+ KB\n"
          ]
        }
      ]
    },
    {
      "cell_type": "code",
      "source": [
        "df.shape"
      ],
      "metadata": {
        "colab": {
          "base_uri": "https://localhost:8080/"
        },
        "id": "3_i--40ubH3e",
        "outputId": "1239bcd7-1da2-40d2-d6d4-be89a53a2159"
      },
      "execution_count": null,
      "outputs": [
        {
          "output_type": "execute_result",
          "data": {
            "text/plain": [
              "(955, 9)"
            ]
          },
          "metadata": {},
          "execution_count": 371
        }
      ]
    },
    {
      "cell_type": "code",
      "source": [
        "df.reset_index(inplace=True)"
      ],
      "metadata": {
        "id": "51HEHc2VR8T8"
      },
      "execution_count": null,
      "outputs": []
    },
    {
      "cell_type": "code",
      "source": [
        "df.info()"
      ],
      "metadata": {
        "colab": {
          "base_uri": "https://localhost:8080/"
        },
        "id": "2UbQdTlfZ44G",
        "outputId": "f77539f6-887d-4d33-fef6-b771a5760261"
      },
      "execution_count": null,
      "outputs": [
        {
          "output_type": "stream",
          "name": "stdout",
          "text": [
            "<class 'pandas.core.frame.DataFrame'>\n",
            "RangeIndex: 955 entries, 0 to 954\n",
            "Data columns (total 10 columns):\n",
            " #   Column            Non-Null Count  Dtype \n",
            "---  ------            --------------  ----- \n",
            " 0   index             955 non-null    int64 \n",
            " 1   Age               955 non-null    int64 \n",
            " 2   Sex               955 non-null    object\n",
            " 3   Job               955 non-null    int64 \n",
            " 4   Housing           955 non-null    object\n",
            " 5   Saving accounts   955 non-null    object\n",
            " 6   Checking account  955 non-null    object\n",
            " 7   Credit_amount     955 non-null    int64 \n",
            " 8   Duration          955 non-null    int64 \n",
            " 9   Purpose           955 non-null    object\n",
            "dtypes: int64(5), object(5)\n",
            "memory usage: 74.7+ KB\n"
          ]
        }
      ]
    },
    {
      "cell_type": "code",
      "source": [
        "df=df.drop(columns=['index'], axis=1)"
      ],
      "metadata": {
        "id": "pWheETrMaA2d"
      },
      "execution_count": null,
      "outputs": []
    },
    {
      "cell_type": "code",
      "source": [
        "df.info()"
      ],
      "metadata": {
        "colab": {
          "base_uri": "https://localhost:8080/"
        },
        "id": "GF-CVAypi089",
        "outputId": "f4daf716-5369-4ecf-9be7-1a8f2bf49f73"
      },
      "execution_count": null,
      "outputs": [
        {
          "output_type": "stream",
          "name": "stdout",
          "text": [
            "<class 'pandas.core.frame.DataFrame'>\n",
            "RangeIndex: 955 entries, 0 to 954\n",
            "Data columns (total 9 columns):\n",
            " #   Column            Non-Null Count  Dtype \n",
            "---  ------            --------------  ----- \n",
            " 0   Age               955 non-null    int64 \n",
            " 1   Sex               955 non-null    object\n",
            " 2   Job               955 non-null    int64 \n",
            " 3   Housing           955 non-null    object\n",
            " 4   Saving accounts   955 non-null    object\n",
            " 5   Checking account  955 non-null    object\n",
            " 6   Credit_amount     955 non-null    int64 \n",
            " 7   Duration          955 non-null    int64 \n",
            " 8   Purpose           955 non-null    object\n",
            "dtypes: int64(4), object(5)\n",
            "memory usage: 67.3+ KB\n"
          ]
        }
      ]
    },
    {
      "cell_type": "code",
      "source": [
        "df.shape"
      ],
      "metadata": {
        "colab": {
          "base_uri": "https://localhost:8080/"
        },
        "id": "UNPfDHKoX0YN",
        "outputId": "941f6686-77aa-4c80-a7fc-98fe31f7b127"
      },
      "execution_count": null,
      "outputs": [
        {
          "output_type": "execute_result",
          "data": {
            "text/plain": [
              "(955, 9)"
            ]
          },
          "metadata": {},
          "execution_count": 376
        }
      ]
    },
    {
      "cell_type": "code",
      "source": [
        "df['Credit_amount'].plot(kind='box')\n",
        "plt.title('Credit amount', size=16)\n",
        "plt.show()"
      ],
      "metadata": {
        "colab": {
          "base_uri": "https://localhost:8080/",
          "height": 284
        },
        "id": "JN107OP60Hd7",
        "outputId": "2eeed8d6-2ec6-40c8-e6b7-65fd2fe98c70"
      },
      "execution_count": null,
      "outputs": [
        {
          "output_type": "display_data",
          "data": {
            "text/plain": [
              "<Figure size 432x288 with 1 Axes>"
            ],
            "image/png": "[encoded data removed]"
          },
          "metadata": {
            "needs_background": "light"
          }
        }
      ]
    },
    {
      "cell_type": "code",
      "source": [
        "Q1C = df['Credit_amount'].quantile(0.25) # Finding Q1 value\n",
        "Q3C = df['Credit_amount'].quantile(0.75) # Finding Q3 value\n",
        "IQRC = Q3C-Q1C # Calculating IQR\n",
        "print('Q1C = ', Q1C)\n",
        "print('Q3C = ', Q3C)\n",
        "print('IQR Credit amount = ', IQRC)"
      ],
      "metadata": {
        "colab": {
          "base_uri": "https://localhost:8080/"
        },
        "id": "rgxTWGxWX0A5",
        "outputId": "1250a7c3-fcea-492b-f313-decde17e751e"
      },
      "execution_count": null,
      "outputs": [
        {
          "output_type": "stream",
          "name": "stdout",
          "text": [
            "Q1C =  1375.0\n",
            "Q3C =  3977.5\n",
            "IQR Credit amount =  2602.5\n"
          ]
        }
      ]
    },
    {
      "cell_type": "code",
      "source": [
        "nilai_min = df['Credit_amount'].min() # Finding min.value\n",
        "nilai_max = df['Credit_amount'].max() # Finding max.value\n",
        " \n",
        "min_IQRC = Q1C - 1.5 * IQRC # Calculating min. IQR\n",
        "max_IQRC = Q3C + 1.5 * IQRC # Calculating max. IQR\n",
        " \n",
        "# Conditional to find low outlier\n",
        "if (nilai_min < min_IQRC): \n",
        " print('Low outlier is found <', min_IQRC)\n",
        " # Showing low outlier index \n",
        " print('Low Outlier Index :', list(df[df['Credit_amount'] < min_IQRC].index)) \n",
        " \n",
        "# Conditional to find high outlier\n",
        "if (nilai_max > max_IQRC):\n",
        " print('High outlier is found >', max_IQRC)\n",
        " # Showing high outlier index \n",
        " print('High outlier Index : ', list(df[df['Credit_amount'] > max_IQRC].index)) "
      ],
      "metadata": {
        "colab": {
          "base_uri": "https://localhost:8080/"
        },
        "id": "SNvNYqHKYEPE",
        "outputId": "a41efb41-063e-407d-ec22-866904171242"
      },
      "execution_count": null,
      "outputs": [
        {
          "output_type": "stream",
          "name": "stdout",
          "text": [
            "High outlier is found > 7881.25\n",
            "High outlier Index :  [2, 4, 15, 16, 54, 59, 66, 73, 82, 90, 99, 123, 127, 129, 170, 193, 212, 222, 253, 257, 259, 269, 275, 279, 288, 316, 355, 359, 362, 376, 383, 398, 411, 428, 467, 472, 485, 501, 523, 536, 587, 588, 607, 615, 623, 627, 642, 653, 683, 703, 711, 729, 736, 768, 770, 774, 779, 789, 793, 813, 840, 845, 853, 860, 873, 878, 884, 902, 910, 936, 939]\n"
          ]
        }
      ]
    },
    {
      "cell_type": "code",
      "source": [
        "df=df.drop([2, 4, 15, 16, 54, 59, 66, 73, 82, 90, 99, 123, 127, 129, 170, 193, 212, 222, 253, 257, 259, 269, 275, 279, 288, 316, 355, 359, 362, 376, 383, 398, 411, 428, 467, 472, 485, 501, 523, 536, 587, 588, 607, 615, 623, 627, 642, 653, 683, 703, 711, 729, 736, 768, 770, 774, 779, 789, 793, 813, 840, 845, 853, 860, 873, 878, 884, 902, 910, 936, 939], axis=0)"
      ],
      "metadata": {
        "id": "k0LvDuuQ2HJ4"
      },
      "execution_count": null,
      "outputs": []
    },
    {
      "cell_type": "code",
      "source": [
        "df.shape"
      ],
      "metadata": {
        "colab": {
          "base_uri": "https://localhost:8080/"
        },
        "id": "YaVvG2Z7X8v1",
        "outputId": "7f914a27-8b8c-4e96-86ef-1b775b167881"
      },
      "execution_count": null,
      "outputs": [
        {
          "output_type": "execute_result",
          "data": {
            "text/plain": [
              "(884, 9)"
            ]
          },
          "metadata": {},
          "execution_count": 381
        }
      ]
    },
    {
      "cell_type": "code",
      "source": [
        "df.reset_index(inplace=True)"
      ],
      "metadata": {
        "id": "p8Qmrw3hTOfX"
      },
      "execution_count": null,
      "outputs": []
    },
    {
      "cell_type": "code",
      "source": [
        "df.info()"
      ],
      "metadata": {
        "colab": {
          "base_uri": "https://localhost:8080/"
        },
        "id": "wkSjR9sUYCZS",
        "outputId": "c6855c9f-5423-44c7-d10e-cd802a353e07"
      },
      "execution_count": null,
      "outputs": [
        {
          "output_type": "stream",
          "name": "stdout",
          "text": [
            "<class 'pandas.core.frame.DataFrame'>\n",
            "RangeIndex: 884 entries, 0 to 883\n",
            "Data columns (total 10 columns):\n",
            " #   Column            Non-Null Count  Dtype \n",
            "---  ------            --------------  ----- \n",
            " 0   index             884 non-null    int64 \n",
            " 1   Age               884 non-null    int64 \n",
            " 2   Sex               884 non-null    object\n",
            " 3   Job               884 non-null    int64 \n",
            " 4   Housing           884 non-null    object\n",
            " 5   Saving accounts   884 non-null    object\n",
            " 6   Checking account  884 non-null    object\n",
            " 7   Credit_amount     884 non-null    int64 \n",
            " 8   Duration          884 non-null    int64 \n",
            " 9   Purpose           884 non-null    object\n",
            "dtypes: int64(5), object(5)\n",
            "memory usage: 69.2+ KB\n"
          ]
        }
      ]
    },
    {
      "cell_type": "code",
      "source": [
        "df.shape"
      ],
      "metadata": {
        "colab": {
          "base_uri": "https://localhost:8080/"
        },
        "id": "chJbnRujYMwI",
        "outputId": "dc9e7cfe-91ba-46b7-f18f-b96e0817ef22"
      },
      "execution_count": null,
      "outputs": [
        {
          "output_type": "execute_result",
          "data": {
            "text/plain": [
              "(884, 10)"
            ]
          },
          "metadata": {},
          "execution_count": 384
        }
      ]
    },
    {
      "cell_type": "code",
      "source": [
        "df['Credit_amount'].plot(kind='box')\n",
        "plt.title('Credit amount', size=16)\n",
        "plt.show()"
      ],
      "metadata": {
        "colab": {
          "base_uri": "https://localhost:8080/",
          "height": 284
        },
        "id": "1ygIhR-iggxV",
        "outputId": "e7810680-4657-4941-e6b3-b46ed0fe9f39"
      },
      "execution_count": null,
      "outputs": [
        {
          "output_type": "display_data",
          "data": {
            "text/plain": [
              "<Figure size 432x288 with 1 Axes>"
            ],
            "image/png": "[encoded data removed]"
          },
          "metadata": {
            "needs_background": "light"
          }
        }
      ]
    },
    {
      "cell_type": "code",
      "source": [
        "df=df.drop(df[df.Credit_amount > 6300].index, axis=0)"
      ],
      "metadata": {
        "id": "MdPMOfasY2lN"
      },
      "execution_count": null,
      "outputs": []
    },
    {
      "cell_type": "code",
      "source": [
        "df['Credit_amount'].plot(kind='box')\n",
        "plt.title('Credit amount', size=16)\n",
        "plt.show()"
      ],
      "metadata": {
        "colab": {
          "base_uri": "https://localhost:8080/",
          "height": 284
        },
        "id": "eI4k47ANY9Z0",
        "outputId": "a4c6065c-a1d9-4ae5-a1e0-28485b6ef4d7"
      },
      "execution_count": null,
      "outputs": [
        {
          "output_type": "display_data",
          "data": {
            "text/plain": [
              "<Figure size 432x288 with 1 Axes>"
            ],
            "image/png": "[encoded data removed]"
          },
          "metadata": {
            "needs_background": "light"
          }
        }
      ]
    },
    {
      "cell_type": "code",
      "source": [
        "df=df.drop(df[df.Credit_amount > 5700].index, axis=0)"
      ],
      "metadata": {
        "id": "BJRv89HgZAVs"
      },
      "execution_count": null,
      "outputs": []
    },
    {
      "cell_type": "code",
      "source": [
        "df['Credit_amount'].plot(kind='box')\n",
        "plt.title('Credit amount', size=16)\n",
        "plt.show()"
      ],
      "metadata": {
        "colab": {
          "base_uri": "https://localhost:8080/",
          "height": 284
        },
        "id": "1T-sKQYoZjxl",
        "outputId": "45bcb39c-397a-43f5-ef86-bb086c3e1717"
      },
      "execution_count": null,
      "outputs": [
        {
          "output_type": "display_data",
          "data": {
            "text/plain": [
              "<Figure size 432x288 with 1 Axes>"
            ],
            "image/png": "[encoded data removed]"
          },
          "metadata": {
            "needs_background": "light"
          }
        }
      ]
    },
    {
      "cell_type": "code",
      "source": [
        "df.shape"
      ],
      "metadata": {
        "colab": {
          "base_uri": "https://localhost:8080/"
        },
        "id": "ZpVPtZIwV_l2",
        "outputId": "49ec70b4-f7ff-4238-fc51-1081269d1082"
      },
      "execution_count": null,
      "outputs": [
        {
          "output_type": "execute_result",
          "data": {
            "text/plain": [
              "(797, 10)"
            ]
          },
          "metadata": {},
          "execution_count": 390
        }
      ]
    },
    {
      "cell_type": "code",
      "source": [
        "df.reset_index(inplace=True)"
      ],
      "metadata": {
        "id": "w6oFlLoGw5DQ"
      },
      "execution_count": null,
      "outputs": []
    },
    {
      "cell_type": "code",
      "source": [
        "df.info()"
      ],
      "metadata": {
        "colab": {
          "base_uri": "https://localhost:8080/"
        },
        "id": "X39RHjNww8Dq",
        "outputId": "c9ae843b-c016-4f5a-95fd-420d754e5551"
      },
      "execution_count": null,
      "outputs": [
        {
          "output_type": "stream",
          "name": "stdout",
          "text": [
            "<class 'pandas.core.frame.DataFrame'>\n",
            "RangeIndex: 797 entries, 0 to 796\n",
            "Data columns (total 11 columns):\n",
            " #   Column            Non-Null Count  Dtype \n",
            "---  ------            --------------  ----- \n",
            " 0   level_0           797 non-null    int64 \n",
            " 1   index             797 non-null    int64 \n",
            " 2   Age               797 non-null    int64 \n",
            " 3   Sex               797 non-null    object\n",
            " 4   Job               797 non-null    int64 \n",
            " 5   Housing           797 non-null    object\n",
            " 6   Saving accounts   797 non-null    object\n",
            " 7   Checking account  797 non-null    object\n",
            " 8   Credit_amount     797 non-null    int64 \n",
            " 9   Duration          797 non-null    int64 \n",
            " 10  Purpose           797 non-null    object\n",
            "dtypes: int64(6), object(5)\n",
            "memory usage: 68.6+ KB\n"
          ]
        }
      ]
    },
    {
      "cell_type": "code",
      "source": [
        "df=df.drop(\"index\", axis=1)"
      ],
      "metadata": {
        "id": "oKd0BgHfxEj-"
      },
      "execution_count": null,
      "outputs": []
    },
    {
      "cell_type": "code",
      "source": [
        "df.info()"
      ],
      "metadata": {
        "colab": {
          "base_uri": "https://localhost:8080/"
        },
        "id": "Mp1Yt90QxVel",
        "outputId": "22020cae-7d71-428a-9668-37a03e6dc8fd"
      },
      "execution_count": null,
      "outputs": [
        {
          "output_type": "stream",
          "name": "stdout",
          "text": [
            "<class 'pandas.core.frame.DataFrame'>\n",
            "RangeIndex: 797 entries, 0 to 796\n",
            "Data columns (total 10 columns):\n",
            " #   Column            Non-Null Count  Dtype \n",
            "---  ------            --------------  ----- \n",
            " 0   level_0           797 non-null    int64 \n",
            " 1   Age               797 non-null    int64 \n",
            " 2   Sex               797 non-null    object\n",
            " 3   Job               797 non-null    int64 \n",
            " 4   Housing           797 non-null    object\n",
            " 5   Saving accounts   797 non-null    object\n",
            " 6   Checking account  797 non-null    object\n",
            " 7   Credit_amount     797 non-null    int64 \n",
            " 8   Duration          797 non-null    int64 \n",
            " 9   Purpose           797 non-null    object\n",
            "dtypes: int64(5), object(5)\n",
            "memory usage: 62.4+ KB\n"
          ]
        }
      ]
    },
    {
      "cell_type": "code",
      "source": [
        "df=df.drop(\"level_0\", axis=1)"
      ],
      "metadata": {
        "id": "yMVwzltMxX_c"
      },
      "execution_count": null,
      "outputs": []
    },
    {
      "cell_type": "code",
      "source": [
        "df.info()"
      ],
      "metadata": {
        "colab": {
          "base_uri": "https://localhost:8080/"
        },
        "id": "kh2APG5pxg5G",
        "outputId": "26f50fed-dc0a-4164-c956-a03f21298b0e"
      },
      "execution_count": null,
      "outputs": [
        {
          "output_type": "stream",
          "name": "stdout",
          "text": [
            "<class 'pandas.core.frame.DataFrame'>\n",
            "RangeIndex: 797 entries, 0 to 796\n",
            "Data columns (total 9 columns):\n",
            " #   Column            Non-Null Count  Dtype \n",
            "---  ------            --------------  ----- \n",
            " 0   Age               797 non-null    int64 \n",
            " 1   Sex               797 non-null    object\n",
            " 2   Job               797 non-null    int64 \n",
            " 3   Housing           797 non-null    object\n",
            " 4   Saving accounts   797 non-null    object\n",
            " 5   Checking account  797 non-null    object\n",
            " 6   Credit_amount     797 non-null    int64 \n",
            " 7   Duration          797 non-null    int64 \n",
            " 8   Purpose           797 non-null    object\n",
            "dtypes: int64(4), object(5)\n",
            "memory usage: 56.2+ KB\n"
          ]
        }
      ]
    },
    {
      "cell_type": "code",
      "source": [
        "df['Duration'].plot(kind=\"box\")\n",
        "plt.title('Duration')\n",
        "plt.show()"
      ],
      "metadata": {
        "colab": {
          "base_uri": "https://localhost:8080/",
          "height": 281
        },
        "id": "ZypQvfqwVQYW",
        "outputId": "8bbaa971-10cc-4ac2-b234-733de0183b46"
      },
      "execution_count": null,
      "outputs": [
        {
          "output_type": "display_data",
          "data": {
            "text/plain": [
              "<Figure size 432x288 with 1 Axes>"
            ],
            "image/png": "[encoded data removed]"
          },
          "metadata": {
            "needs_background": "light"
          }
        }
      ]
    },
    {
      "cell_type": "code",
      "source": [
        "Q1D = df['Duration'].quantile(0.25) # Finding Q1 value\n",
        "Q3D = df['Duration'].quantile(0.75) # Finding Q3.value\n",
        "IQRD = Q3D-Q1D # Calculating IQR\n",
        "print('Q1D = ', Q1D)\n",
        "print('Q3D = ', Q3D)\n",
        "print('IQR Duration = ', IQRD)"
      ],
      "metadata": {
        "colab": {
          "base_uri": "https://localhost:8080/"
        },
        "id": "qcqI5LW4yJCH",
        "outputId": "0076bccb-4796-46ba-f29a-90a3edbae3c6"
      },
      "execution_count": null,
      "outputs": [
        {
          "output_type": "stream",
          "name": "stdout",
          "text": [
            "Q1D =  12.0\n",
            "Q3D =  24.0\n",
            "IQR Duration =  12.0\n"
          ]
        }
      ]
    },
    {
      "cell_type": "code",
      "source": [
        "nilai_min = df['Duration'].min() # Finding min.value\n",
        "nilai_max = df['Duration'].max() # Finding max.value\n",
        " \n",
        "min_IQRD = Q1D - 1.5 * IQRD # Calculating min. IQR\n",
        "max_IQRD = Q3D + 1.5 * IQRD #Calculating max. IQR\n",
        " \n",
        "#  Conditional to find low outlier\n",
        "if (nilai_min < min_IQRD): \n",
        " print('Low outlier is found <', min_IQRD)\n",
        " # Showing low outlier index \n",
        " print('Low Outlier Index :', list(df[df['Credit_amount'] < min_IQRD].index)) \n",
        " \n",
        "# Conditional to find high outlier\n",
        "if (nilai_max > max_IQRD):\n",
        " print('High outlier is found >', max_IQRD)\n",
        " # Showing low high outlier index\n",
        " print('High outlier Index : ', list(df[df['Credit_amount'] > max_IQRD].index))"
      ],
      "metadata": {
        "colab": {
          "base_uri": "https://localhost:8080/"
        },
        "id": "O3KDo03jygfn",
        "outputId": "4565b827-fde0-4f1c-edbf-bf8e8ee1625a"
      },
      "execution_count": null,
      "outputs": [
        {
          "output_type": "stream",
          "name": "stdout",
          "text": [
            "High outlier is found > 42.0\n",
            "High outlier Index :  [0, 1, 2, 3, 4, 5, 6, 7, 8, 9, 10, 11, 12, 13, 14, 15, 16, 17, 18, 19, 20, 21, 22, 23, 24, 25, 26, 27, 28, 29, 30, 31, 32, 33, 34, 35, 36, 37, 38, 39, 40, 41, 42, 43, 44, 45, 46, 47, 48, 49, 50, 51, 52, 53, 54, 55, 56, 57, 58, 59, 60, 61, 62, 63, 64, 65, 66, 67, 68, 69, 70, 71, 72, 73, 74, 75, 76, 77, 78, 79, 80, 81, 82, 83, 84, 85, 86, 87, 88, 89, 90, 91, 92, 93, 94, 95, 96, 97, 98, 99, 100, 101, 102, 103, 104, 105, 106, 107, 108, 109, 110, 111, 112, 113, 114, 115, 116, 117, 118, 119, 120, 121, 122, 123, 124, 125, 126, 127, 128, 129, 130, 131, 132, 133, 134, 135, 136, 137, 138, 139, 140, 141, 142, 143, 144, 145, 146, 147, 148, 149, 150, 151, 152, 153, 154, 155, 156, 157, 158, 159, 160, 161, 162, 163, 164, 165, 166, 167, 168, 169, 170, 171, 172, 173, 174, 175, 176, 177, 178, 179, 180, 181, 182, 183, 184, 185, 186, 187, 188, 189, 190, 191, 192, 193, 194, 195, 196, 197, 198, 199, 200, 201, 202, 203, 204, 205, 206, 207, 208, 209, 210, 211, 212, 213, 214, 215, 216, 217, 218, 219, 220, 221, 222, 223, 224, 225, 226, 227, 228, 229, 230, 231, 232, 233, 234, 235, 236, 237, 238, 239, 240, 241, 242, 243, 244, 245, 246, 247, 248, 249, 250, 251, 252, 253, 254, 255, 256, 257, 258, 259, 260, 261, 262, 263, 264, 265, 266, 267, 268, 269, 270, 271, 272, 273, 274, 275, 276, 277, 278, 279, 280, 281, 282, 283, 284, 285, 286, 287, 288, 289, 290, 291, 292, 293, 294, 295, 296, 297, 298, 299, 300, 301, 302, 303, 304, 305, 306, 307, 308, 309, 310, 311, 312, 313, 314, 315, 316, 317, 318, 319, 320, 321, 322, 323, 324, 325, 326, 327, 328, 329, 330, 331, 332, 333, 334, 335, 336, 337, 338, 339, 340, 341, 342, 343, 344, 345, 346, 347, 348, 349, 350, 351, 352, 353, 354, 355, 356, 357, 358, 359, 360, 361, 362, 363, 364, 365, 366, 367, 368, 369, 370, 371, 372, 373, 374, 375, 376, 377, 378, 379, 380, 381, 382, 383, 384, 385, 386, 387, 388, 389, 390, 391, 392, 393, 394, 395, 396, 397, 398, 399, 400, 401, 402, 403, 404, 405, 406, 407, 408, 409, 410, 411, 412, 413, 414, 415, 416, 417, 418, 419, 420, 421, 422, 423, 424, 425, 426, 427, 428, 429, 430, 431, 432, 433, 434, 435, 436, 437, 438, 439, 440, 441, 442, 443, 444, 445, 446, 447, 448, 449, 450, 451, 452, 453, 454, 455, 456, 457, 458, 459, 460, 461, 462, 463, 464, 465, 466, 467, 468, 469, 470, 471, 472, 473, 474, 475, 476, 477, 478, 479, 480, 481, 482, 483, 484, 485, 486, 487, 488, 489, 490, 491, 492, 493, 494, 495, 496, 497, 498, 499, 500, 501, 502, 503, 504, 505, 506, 507, 508, 509, 510, 511, 512, 513, 514, 515, 516, 517, 518, 519, 520, 521, 522, 523, 524, 525, 526, 527, 528, 529, 530, 531, 532, 533, 534, 535, 536, 537, 538, 539, 540, 541, 542, 543, 544, 545, 546, 547, 548, 549, 550, 551, 552, 553, 554, 555, 556, 557, 558, 559, 560, 561, 562, 563, 564, 565, 566, 567, 568, 569, 570, 571, 572, 573, 574, 575, 576, 577, 578, 579, 580, 581, 582, 583, 584, 585, 586, 587, 588, 589, 590, 591, 592, 593, 594, 595, 596, 597, 598, 599, 600, 601, 602, 603, 604, 605, 606, 607, 608, 609, 610, 611, 612, 613, 614, 615, 616, 617, 618, 619, 620, 621, 622, 623, 624, 625, 626, 627, 628, 629, 630, 631, 632, 633, 634, 635, 636, 637, 638, 639, 640, 641, 642, 643, 644, 645, 646, 647, 648, 649, 650, 651, 652, 653, 654, 655, 656, 657, 658, 659, 660, 661, 662, 663, 664, 665, 666, 667, 668, 669, 670, 671, 672, 673, 674, 675, 676, 677, 678, 679, 680, 681, 682, 683, 684, 685, 686, 687, 688, 689, 690, 691, 692, 693, 694, 695, 696, 697, 698, 699, 700, 701, 702, 703, 704, 705, 706, 707, 708, 709, 710, 711, 712, 713, 714, 715, 716, 717, 718, 719, 720, 721, 722, 723, 724, 725, 726, 727, 728, 729, 730, 731, 732, 733, 734, 735, 736, 737, 738, 739, 740, 741, 742, 743, 744, 745, 746, 747, 748, 749, 750, 751, 752, 753, 754, 755, 756, 757, 758, 759, 760, 761, 762, 763, 764, 765, 766, 767, 768, 769, 770, 771, 772, 773, 774, 775, 776, 777, 778, 779, 780, 781, 782, 783, 784, 785, 786, 787, 788, 789, 790, 791, 792, 793, 794, 795, 796]\n"
          ]
        }
      ]
    },
    {
      "cell_type": "code",
      "source": [
        "df=df.drop(df[df.Duration > 42].index, axis=0)"
      ],
      "metadata": {
        "id": "9Y1dlFkizS9n"
      },
      "execution_count": null,
      "outputs": []
    },
    {
      "cell_type": "code",
      "source": [
        "df['Duration'].plot(kind=\"box\")\n",
        "plt.title('Duration')\n",
        "plt.show()"
      ],
      "metadata": {
        "colab": {
          "base_uri": "https://localhost:8080/",
          "height": 281
        },
        "id": "cQkP4-8e1eMy",
        "outputId": "1f532902-9e9a-43e5-a194-ef7339a5fd20"
      },
      "execution_count": null,
      "outputs": [
        {
          "output_type": "display_data",
          "data": {
            "text/plain": [
              "<Figure size 432x288 with 1 Axes>"
            ],
            "image/png": "[encoded data removed]"
          },
          "metadata": {
            "needs_background": "light"
          }
        }
      ]
    },
    {
      "cell_type": "code",
      "source": [
        "df['Credit_amount'].plot(kind='box')\n",
        "plt.title('Credit amount', size=16)\n",
        "plt.show()"
      ],
      "metadata": {
        "colab": {
          "base_uri": "https://localhost:8080/",
          "height": 284
        },
        "id": "GKFYvv3HMSvC",
        "outputId": "b9a30dbb-50c7-41dc-a31c-df03c43e5679"
      },
      "execution_count": null,
      "outputs": [
        {
          "output_type": "display_data",
          "data": {
            "text/plain": [
              "<Figure size 432x288 with 1 Axes>"
            ],
            "image/png": "[encoded data removed]"
          },
          "metadata": {
            "needs_background": "light"
          }
        }
      ]
    },
    {
      "cell_type": "code",
      "source": [
        "df['Age'].plot(kind='box')\n",
        "plt.title('Age of debitor', size=16)\n",
        "plt.show()"
      ],
      "metadata": {
        "colab": {
          "base_uri": "https://localhost:8080/",
          "height": 283
        },
        "id": "XlLcBS2nMcGp",
        "outputId": "9c95963e-c221-424e-8791-0bd0d285ed74"
      },
      "execution_count": null,
      "outputs": [
        {
          "output_type": "display_data",
          "data": {
            "text/plain": [
              "<Figure size 432x288 with 1 Axes>"
            ],
            "image/png": "[encoded data removed]"
          },
          "metadata": {
            "needs_background": "light"
          }
        }
      ]
    },
    {
      "cell_type": "code",
      "source": [
        "df.shape"
      ],
      "metadata": {
        "colab": {
          "base_uri": "https://localhost:8080/"
        },
        "id": "v_wmby9n1gap",
        "outputId": "c78d6ae6-ea31-4bec-cf59-2f24883fe00c"
      },
      "execution_count": null,
      "outputs": [
        {
          "output_type": "execute_result",
          "data": {
            "text/plain": [
              "(776, 9)"
            ]
          },
          "metadata": {},
          "execution_count": 402
        }
      ]
    },
    {
      "cell_type": "code",
      "source": [
        "df.info()"
      ],
      "metadata": {
        "colab": {
          "base_uri": "https://localhost:8080/"
        },
        "id": "aOZnnScs1kBW",
        "outputId": "1adf3843-1393-4703-e8dd-c3cfe05acdf8"
      },
      "execution_count": null,
      "outputs": [
        {
          "output_type": "stream",
          "name": "stdout",
          "text": [
            "<class 'pandas.core.frame.DataFrame'>\n",
            "Int64Index: 776 entries, 0 to 794\n",
            "Data columns (total 9 columns):\n",
            " #   Column            Non-Null Count  Dtype \n",
            "---  ------            --------------  ----- \n",
            " 0   Age               776 non-null    int64 \n",
            " 1   Sex               776 non-null    object\n",
            " 2   Job               776 non-null    int64 \n",
            " 3   Housing           776 non-null    object\n",
            " 4   Saving accounts   776 non-null    object\n",
            " 5   Checking account  776 non-null    object\n",
            " 6   Credit_amount     776 non-null    int64 \n",
            " 7   Duration          776 non-null    int64 \n",
            " 8   Purpose           776 non-null    object\n",
            "dtypes: int64(4), object(5)\n",
            "memory usage: 60.6+ KB\n"
          ]
        }
      ]
    },
    {
      "cell_type": "markdown",
      "source": [
        "We clasify numericals columns and category columns to find descriptive information (mean,min, max,etc)"
      ],
      "metadata": {
        "id": "OeNSia3IKQGl"
      }
    },
    {
      "cell_type": "code",
      "source": [
        "nums=['Age','Job','Credit_amount','Duration']"
      ],
      "metadata": {
        "id": "vf8EI2681Zux"
      },
      "execution_count": null,
      "outputs": []
    },
    {
      "cell_type": "code",
      "source": [
        "cats=['Sex','Housing','Saving accounts','Checking account','Purpose']"
      ],
      "metadata": {
        "id": "6quaIq134bSn"
      },
      "execution_count": null,
      "outputs": []
    },
    {
      "cell_type": "code",
      "source": [
        "df[nums].describe()  #We find that \"Credit account\" has big gap between \"mean\" and 50%(Q2)"
      ],
      "metadata": {
        "colab": {
          "base_uri": "https://localhost:8080/",
          "height": 300
        },
        "id": "4xT--1Ci0M0b",
        "outputId": "13e2b331-11aa-46c4-b891-e2a6773c76ff"
      },
      "execution_count": null,
      "outputs": [
        {
          "output_type": "execute_result",
          "data": {
            "text/plain": [
              "              Age         Job  Credit_amount    Duration\n",
              "count  776.000000  776.000000     776.000000  776.000000\n",
              "mean    33.878866    1.841495    2186.412371   17.439433\n",
              "std      9.455950    0.611190    1186.552503    8.268335\n",
              "min     19.000000    0.000000     250.000000    4.000000\n",
              "25%     26.000000    2.000000    1275.000000   12.000000\n",
              "50%     32.000000    2.000000    1935.000000   15.000000\n",
              "75%     40.000000    2.000000    2965.250000   24.000000\n",
              "max     60.000000    3.000000    5511.000000   42.000000"
            ],
            "text/html": [
              "\n",
              "  <div id=\"df-feab01a8-89e8-43bb-b7f5-34c0f74cca3b\">\n",
              "    <div class=\"colab-df-container\">\n",
              "      <div>\n",
              "<style scoped>\n",
              "    .dataframe tbody tr th:only-of-type {\n",
              "        vertical-align: middle;\n",
              "    }\n",
              "\n",
              "    .dataframe tbody tr th {\n",
              "        vertical-align: top;\n",
              "    }\n",
              "\n",
              "    .dataframe thead th {\n",
              "        text-align: right;\n",
              "    }\n",
              "</style>\n",
              "<table border=\"1\" class=\"dataframe\">\n",
              "  <thead>\n",
              "    <tr style=\"text-align: right;\">\n",
              "      <th></th>\n",
              "      <th>Age</th>\n",
              "      <th>Job</th>\n",
              "      <th>Credit_amount</th>\n",
              "      <th>Duration</th>\n",
              "    </tr>\n",
              "  </thead>\n",
              "  <tbody>\n",
              "    <tr>\n",
              "      <th>count</th>\n",
              "      <td>776.000000</td>\n",
              "      <td>776.000000</td>\n",
              "      <td>776.000000</td>\n",
              "      <td>776.000000</td>\n",
              "    </tr>\n",
              "    <tr>\n",
              "      <th>mean</th>\n",
              "      <td>33.878866</td>\n",
              "      <td>1.841495</td>\n",
              "      <td>2186.412371</td>\n",
              "      <td>17.439433</td>\n",
              "    </tr>\n",
              "    <tr>\n",
              "      <th>std</th>\n",
              "      <td>9.455950</td>\n",
              "      <td>0.611190</td>\n",
              "      <td>1186.552503</td>\n",
              "      <td>8.268335</td>\n",
              "    </tr>\n",
              "    <tr>\n",
              "      <th>min</th>\n",
              "      <td>19.000000</td>\n",
              "      <td>0.000000</td>\n",
              "      <td>250.000000</td>\n",
              "      <td>4.000000</td>\n",
              "    </tr>\n",
              "    <tr>\n",
              "      <th>25%</th>\n",
              "      <td>26.000000</td>\n",
              "      <td>2.000000</td>\n",
              "      <td>1275.000000</td>\n",
              "      <td>12.000000</td>\n",
              "    </tr>\n",
              "    <tr>\n",
              "      <th>50%</th>\n",
              "      <td>32.000000</td>\n",
              "      <td>2.000000</td>\n",
              "      <td>1935.000000</td>\n",
              "      <td>15.000000</td>\n",
              "    </tr>\n",
              "    <tr>\n",
              "      <th>75%</th>\n",
              "      <td>40.000000</td>\n",
              "      <td>2.000000</td>\n",
              "      <td>2965.250000</td>\n",
              "      <td>24.000000</td>\n",
              "    </tr>\n",
              "    <tr>\n",
              "      <th>max</th>\n",
              "      <td>60.000000</td>\n",
              "      <td>3.000000</td>\n",
              "      <td>5511.000000</td>\n",
              "      <td>42.000000</td>\n",
              "    </tr>\n",
              "  </tbody>\n",
              "</table>\n",
              "</div>\n",
              "      <button class=\"colab-df-convert\" onclick=\"convertToInteractive('df-feab01a8-89e8-43bb-b7f5-34c0f74cca3b')\"\n",
              "              title=\"Convert this dataframe to an interactive table.\"\n",
              "              style=\"display:none;\">\n",
              "        \n",
              "  <svg xmlns=\"http://www.w3.org/2000/svg\" height=\"24px\"viewBox=\"0 0 24 24\"\n",
              "       width=\"24px\">\n",
              "    <path d=\"M0 0h24v24H0V0z\" fill=\"none\"/>\n",
              "    <path d=\"M18.56 5.44l.94 2.06.94-2.06 2.06-.94-2.06-.94-.94-2.06-.94 2.06-2.06.94zm-11 1L8.5 8.5l.94-2.06 2.06-.94-2.06-.94L8.5 2.5l-.94 2.06-2.06.94zm10 10l.94 2.06.94-2.06 2.06-.94-2.06-.94-.94-2.06-.94 2.06-2.06.94z\"/><path d=\"M17.41 7.96l-1.37-1.37c-.4-.4-.92-.59-1.43-.59-.52 0-1.04.2-1.43.59L10.3 9.45l-7.72 7.72c-.78.78-.78 2.05 0 2.83L4 21.41c.39.39.9.59 1.41.59.51 0 1.02-.2 1.41-.59l7.78-7.78 2.81-2.81c.8-.78.8-2.07 0-2.86zM5.41 20L4 18.59l7.72-7.72 1.47 1.35L5.41 20z\"/>\n",
              "  </svg>\n",
              "      </button>\n",
              "      \n",
              "  <style>\n",
              "    .colab-df-container {\n",
              "      display:flex;\n",
              "      flex-wrap:wrap;\n",
              "      gap: 12px;\n",
              "    }\n",
              "\n",
              "    .colab-df-convert {\n",
              "      background-color: #E8F0FE;\n",
              "      border: none;\n",
              "      border-radius: 50%;\n",
              "      cursor: pointer;\n",
              "      display: none;\n",
              "      fill: #1967D2;\n",
              "      height: 32px;\n",
              "      padding: 0 0 0 0;\n",
              "      width: 32px;\n",
              "    }\n",
              "\n",
              "    .colab-df-convert:hover {\n",
              "      background-color: #E2EBFA;\n",
              "      box-shadow: 0px 1px 2px rgba(60, 64, 67, 0.3), 0px 1px 3px 1px rgba(60, 64, 67, 0.15);\n",
              "      fill: #174EA6;\n",
              "    }\n",
              "\n",
              "    [theme=dark] .colab-df-convert {\n",
              "      background-color: #3B4455;\n",
              "      fill: #D2E3FC;\n",
              "    }\n",
              "\n",
              "    [theme=dark] .colab-df-convert:hover {\n",
              "      background-color: #434B5C;\n",
              "      box-shadow: 0px 1px 3px 1px rgba(0, 0, 0, 0.15);\n",
              "      filter: drop-shadow(0px 1px 2px rgba(0, 0, 0, 0.3));\n",
              "      fill: #FFFFFF;\n",
              "    }\n",
              "  </style>\n",
              "\n",
              "      <script>\n",
              "        const buttonEl =\n",
              "          document.querySelector('#df-feab01a8-89e8-43bb-b7f5-34c0f74cca3b button.colab-df-convert');\n",
              "        buttonEl.style.display =\n",
              "          google.colab.kernel.accessAllowed ? 'block' : 'none';\n",
              "\n",
              "        async function convertToInteractive(key) {\n",
              "          const element = document.querySelector('#df-feab01a8-89e8-43bb-b7f5-34c0f74cca3b');\n",
              "          const dataTable =\n",
              "            await google.colab.kernel.invokeFunction('convertToInteractive',\n",
              "                                                     [key], {});\n",
              "          if (!dataTable) return;\n",
              "\n",
              "          const docLinkHtml = 'Like what you see? Visit the ' +\n",
              "            '<a target=\"_blank\" href=https://colab.research.google.com/notebooks/data_table.ipynb>data table notebook</a>'\n",
              "            + ' to learn more about interactive tables.';\n",
              "          element.innerHTML = '';\n",
              "          dataTable['output_type'] = 'display_data';\n",
              "          await google.colab.output.renderOutput(dataTable, element);\n",
              "          const docLink = document.createElement('div');\n",
              "          docLink.innerHTML = docLinkHtml;\n",
              "          element.appendChild(docLink);\n",
              "        }\n",
              "      </script>\n",
              "    </div>\n",
              "  </div>\n",
              "  "
            ]
          },
          "metadata": {},
          "execution_count": 283
        }
      ]
    },
    {
      "cell_type": "code",
      "source": [
        "df[cats].describe()  #We find that \"Purpose\" columns has many unique values(8) with the most is \"car\" = 337"
      ],
      "metadata": {
        "colab": {
          "base_uri": "https://localhost:8080/",
          "height": 175
        },
        "id": "ivgHPJ-D5QdS",
        "outputId": "3c72330a-1770-43b2-a094-378896637775"
      },
      "execution_count": null,
      "outputs": [
        {
          "output_type": "execute_result",
          "data": {
            "text/plain": [
              "         Sex Housing Saving accounts Checking account Purpose\n",
              "count    776     776             776              776     776\n",
              "unique     2       3               4                3       8\n",
              "top     male     own          little           little     car\n",
              "freq     518     574             602              533     239"
            ],
            "text/html": [
              "\n",
              "  <div id=\"df-6f6963a8-e81c-4e8e-aaca-6f57ea4d789b\">\n",
              "    <div class=\"colab-df-container\">\n",
              "      <div>\n",
              "<style scoped>\n",
              "    .dataframe tbody tr th:only-of-type {\n",
              "        vertical-align: middle;\n",
              "    }\n",
              "\n",
              "    .dataframe tbody tr th {\n",
              "        vertical-align: top;\n",
              "    }\n",
              "\n",
              "    .dataframe thead th {\n",
              "        text-align: right;\n",
              "    }\n",
              "</style>\n",
              "<table border=\"1\" class=\"dataframe\">\n",
              "  <thead>\n",
              "    <tr style=\"text-align: right;\">\n",
              "      <th></th>\n",
              "      <th>Sex</th>\n",
              "      <th>Housing</th>\n",
              "      <th>Saving accounts</th>\n",
              "      <th>Checking account</th>\n",
              "      <th>Purpose</th>\n",
              "    </tr>\n",
              "  </thead>\n",
              "  <tbody>\n",
              "    <tr>\n",
              "      <th>count</th>\n",
              "      <td>776</td>\n",
              "      <td>776</td>\n",
              "      <td>776</td>\n",
              "      <td>776</td>\n",
              "      <td>776</td>\n",
              "    </tr>\n",
              "    <tr>\n",
              "      <th>unique</th>\n",
              "      <td>2</td>\n",
              "      <td>3</td>\n",
              "      <td>4</td>\n",
              "      <td>3</td>\n",
              "      <td>8</td>\n",
              "    </tr>\n",
              "    <tr>\n",
              "      <th>top</th>\n",
              "      <td>male</td>\n",
              "      <td>own</td>\n",
              "      <td>little</td>\n",
              "      <td>little</td>\n",
              "      <td>car</td>\n",
              "    </tr>\n",
              "    <tr>\n",
              "      <th>freq</th>\n",
              "      <td>518</td>\n",
              "      <td>574</td>\n",
              "      <td>602</td>\n",
              "      <td>533</td>\n",
              "      <td>239</td>\n",
              "    </tr>\n",
              "  </tbody>\n",
              "</table>\n",
              "</div>\n",
              "      <button class=\"colab-df-convert\" onclick=\"convertToInteractive('df-6f6963a8-e81c-4e8e-aaca-6f57ea4d789b')\"\n",
              "              title=\"Convert this dataframe to an interactive table.\"\n",
              "              style=\"display:none;\">\n",
              "        \n",
              "  <svg xmlns=\"http://www.w3.org/2000/svg\" height=\"24px\"viewBox=\"0 0 24 24\"\n",
              "       width=\"24px\">\n",
              "    <path d=\"M0 0h24v24H0V0z\" fill=\"none\"/>\n",
              "    <path d=\"M18.56 5.44l.94 2.06.94-2.06 2.06-.94-2.06-.94-.94-2.06-.94 2.06-2.06.94zm-11 1L8.5 8.5l.94-2.06 2.06-.94-2.06-.94L8.5 2.5l-.94 2.06-2.06.94zm10 10l.94 2.06.94-2.06 2.06-.94-2.06-.94-.94-2.06-.94 2.06-2.06.94z\"/><path d=\"M17.41 7.96l-1.37-1.37c-.4-.4-.92-.59-1.43-.59-.52 0-1.04.2-1.43.59L10.3 9.45l-7.72 7.72c-.78.78-.78 2.05 0 2.83L4 21.41c.39.39.9.59 1.41.59.51 0 1.02-.2 1.41-.59l7.78-7.78 2.81-2.81c.8-.78.8-2.07 0-2.86zM5.41 20L4 18.59l7.72-7.72 1.47 1.35L5.41 20z\"/>\n",
              "  </svg>\n",
              "      </button>\n",
              "      \n",
              "  <style>\n",
              "    .colab-df-container {\n",
              "      display:flex;\n",
              "      flex-wrap:wrap;\n",
              "      gap: 12px;\n",
              "    }\n",
              "\n",
              "    .colab-df-convert {\n",
              "      background-color: #E8F0FE;\n",
              "      border: none;\n",
              "      border-radius: 50%;\n",
              "      cursor: pointer;\n",
              "      display: none;\n",
              "      fill: #1967D2;\n",
              "      height: 32px;\n",
              "      padding: 0 0 0 0;\n",
              "      width: 32px;\n",
              "    }\n",
              "\n",
              "    .colab-df-convert:hover {\n",
              "      background-color: #E2EBFA;\n",
              "      box-shadow: 0px 1px 2px rgba(60, 64, 67, 0.3), 0px 1px 3px 1px rgba(60, 64, 67, 0.15);\n",
              "      fill: #174EA6;\n",
              "    }\n",
              "\n",
              "    [theme=dark] .colab-df-convert {\n",
              "      background-color: #3B4455;\n",
              "      fill: #D2E3FC;\n",
              "    }\n",
              "\n",
              "    [theme=dark] .colab-df-convert:hover {\n",
              "      background-color: #434B5C;\n",
              "      box-shadow: 0px 1px 3px 1px rgba(0, 0, 0, 0.15);\n",
              "      filter: drop-shadow(0px 1px 2px rgba(0, 0, 0, 0.3));\n",
              "      fill: #FFFFFF;\n",
              "    }\n",
              "  </style>\n",
              "\n",
              "      <script>\n",
              "        const buttonEl =\n",
              "          document.querySelector('#df-6f6963a8-e81c-4e8e-aaca-6f57ea4d789b button.colab-df-convert');\n",
              "        buttonEl.style.display =\n",
              "          google.colab.kernel.accessAllowed ? 'block' : 'none';\n",
              "\n",
              "        async function convertToInteractive(key) {\n",
              "          const element = document.querySelector('#df-6f6963a8-e81c-4e8e-aaca-6f57ea4d789b');\n",
              "          const dataTable =\n",
              "            await google.colab.kernel.invokeFunction('convertToInteractive',\n",
              "                                                     [key], {});\n",
              "          if (!dataTable) return;\n",
              "\n",
              "          const docLinkHtml = 'Like what you see? Visit the ' +\n",
              "            '<a target=\"_blank\" href=https://colab.research.google.com/notebooks/data_table.ipynb>data table notebook</a>'\n",
              "            + ' to learn more about interactive tables.';\n",
              "          element.innerHTML = '';\n",
              "          dataTable['output_type'] = 'display_data';\n",
              "          await google.colab.output.renderOutput(dataTable, element);\n",
              "          const docLink = document.createElement('div');\n",
              "          docLink.innerHTML = docLinkHtml;\n",
              "          element.appendChild(docLink);\n",
              "        }\n",
              "      </script>\n",
              "    </div>\n",
              "  </div>\n",
              "  "
            ]
          },
          "metadata": {},
          "execution_count": 284
        }
      ]
    },
    {
      "cell_type": "markdown",
      "source": [
        "We can get the information about unique value in each column"
      ],
      "metadata": {
        "id": "T8D1BF3fNC24"
      }
    },
    {
      "cell_type": "code",
      "source": [
        "df['Housing'].unique()"
      ],
      "metadata": {
        "colab": {
          "base_uri": "https://localhost:8080/"
        },
        "id": "Ms-N89GD9biW",
        "outputId": "6db048f4-864e-43f8-a566-226c613a9a17"
      },
      "execution_count": null,
      "outputs": [
        {
          "output_type": "execute_result",
          "data": {
            "text/plain": [
              "array(['own', 'free', 'rent'], dtype=object)"
            ]
          },
          "metadata": {},
          "execution_count": 285
        }
      ]
    },
    {
      "cell_type": "code",
      "source": [
        "df['Saving accounts'].unique()"
      ],
      "metadata": {
        "colab": {
          "base_uri": "https://localhost:8080/"
        },
        "id": "VxDw5JLL9mxQ",
        "outputId": "935196bc-4df1-4be2-fa69-4953861eca65"
      },
      "execution_count": null,
      "outputs": [
        {
          "output_type": "execute_result",
          "data": {
            "text/plain": [
              "array(['little', 'quite rich', 'moderate', 'rich'], dtype=object)"
            ]
          },
          "metadata": {},
          "execution_count": 286
        }
      ]
    },
    {
      "cell_type": "code",
      "source": [
        "df['Checking account'].unique()"
      ],
      "metadata": {
        "colab": {
          "base_uri": "https://localhost:8080/"
        },
        "id": "SXmlWoXF9zyv",
        "outputId": "d4a21cde-8e8e-4c9d-cb24-ea980da35669"
      },
      "execution_count": null,
      "outputs": [
        {
          "output_type": "execute_result",
          "data": {
            "text/plain": [
              "array(['little', 'moderate', 'rich'], dtype=object)"
            ]
          },
          "metadata": {},
          "execution_count": 287
        }
      ]
    },
    {
      "cell_type": "markdown",
      "source": [
        "We will changes the \"object\" datatype to be \"category\" type for 'Sex','Housing','Saving accounts','Checking account' columns\n",
        "\n"
      ],
      "metadata": {
        "id": "6wkcKnUANfpA"
      }
    },
    {
      "cell_type": "code",
      "source": [
        "df_features[['Sex','Housing','Saving accounts','Checking account']] = df_features[['Sex',\n",
        "'Housing', 'Saving accounts', 'Checking account']].astype('category')"
      ],
      "metadata": {
        "id": "NljrfPQcCLF4"
      },
      "execution_count": null,
      "outputs": []
    },
    {
      "cell_type": "code",
      "source": [
        "#We check data type for each column\n",
        "df_features.info()"
      ],
      "metadata": {
        "colab": {
          "base_uri": "https://localhost:8080/"
        },
        "id": "A2w963CaCTfe",
        "outputId": "455880f7-836c-40c1-c755-1c059c5979da"
      },
      "execution_count": null,
      "outputs": [
        {
          "output_type": "stream",
          "name": "stdout",
          "text": [
            "<class 'pandas.core.frame.DataFrame'>\n",
            "RangeIndex: 1000 entries, 0 to 999\n",
            "Data columns (total 8 columns):\n",
            " #   Column            Non-Null Count  Dtype   \n",
            "---  ------            --------------  -----   \n",
            " 0   Age               1000 non-null   int64   \n",
            " 1   Sex               1000 non-null   category\n",
            " 2   Job               1000 non-null   int64   \n",
            " 3   Housing           1000 non-null   category\n",
            " 4   Saving accounts   1000 non-null   category\n",
            " 5   Checking account  1000 non-null   category\n",
            " 6   Credit_amount     1000 non-null   int64   \n",
            " 7   Duration          1000 non-null   int64   \n",
            "dtypes: category(4), int64(4)\n",
            "memory usage: 35.9 KB\n"
          ]
        }
      ]
    },
    {
      "cell_type": "markdown",
      "source": [
        "**2. EXPLARATORY DATA ANALYSIS**\n",
        "\n"
      ],
      "metadata": {
        "id": "IaBMfN_fOjkM"
      }
    },
    {
      "cell_type": "markdown",
      "source": [
        "We apply the lable encoding for \"Sex\" column because has 2 velue (male/female)."
      ],
      "metadata": {
        "id": "F3REDdBKRDHz"
      }
    },
    {
      "cell_type": "code",
      "source": [
        "df_features['Sex'] = df_features['Sex'].cat.codes"
      ],
      "metadata": {
        "id": "rCgZQAU9D5fW"
      },
      "execution_count": null,
      "outputs": []
    },
    {
      "cell_type": "markdown",
      "source": [
        "We define the grading/level for each value in column \"Housing\", \"Saving accounts\" and \"Checking account\". We apply the ordinal lableling for them."
      ],
      "metadata": {
        "id": "GgEP-aibR_8_"
      }
    },
    {
      "cell_type": "code",
      "source": [
        "dic = {'Housing': {'own': 1, 'free': 3, 'rent':2},\n",
        "       'Saving accounts': {'little': 4, 'moderate': 3, 'quite rich': 2, 'rich': 1},\n",
        "       'Checking account': {'little':3,'moderate': 2,'rich': 1}}"
      ],
      "metadata": {
        "id": "jQE2KpNvBEUi"
      },
      "execution_count": null,
      "outputs": []
    },
    {
      "cell_type": "code",
      "source": [
        "df_features=df_features.replace(dic)\n",
        "df_features.sample(20)"
      ],
      "metadata": {
        "colab": {
          "base_uri": "https://localhost:8080/",
          "height": 676
        },
        "id": "HxBHmeRuCMry",
        "outputId": "ca76cce0-7d3a-40f9-ae2d-53e0fd4e636b"
      },
      "execution_count": null,
      "outputs": [
        {
          "output_type": "execute_result",
          "data": {
            "text/plain": [
              "     Age  Sex  Job  Housing  Saving accounts  Checking account  Credit_amount  \\\n",
              "41    26    1    2        1                2                 2           1158   \n",
              "338   28    1    2        1                4                 3           4169   \n",
              "171   26    0    2        1                4                 3            763   \n",
              "539   45    0    1        1                4                 1           3049   \n",
              "425   21    1    2        2                4                 2           2779   \n",
              "600   45    0    2        1                4                 2           2329   \n",
              "527   42    1    1        1                4                 3           1503   \n",
              "81    47    1    2        1                2                 3           1213   \n",
              "142   27    1    3        1                4                 3           3416   \n",
              "548   24    0    1        1                4                 3            626   \n",
              "617   37    1    2        2                4                 3           3676   \n",
              "297   45    1    1        1                4                 3           1287   \n",
              "781   60    1    2        1                1                 3           1940   \n",
              "949   31    1    2        1                3                 3           3621   \n",
              "415   35    1    2        1                4                 3           5842   \n",
              "785   35    1    1        1                1                 2           1941   \n",
              "133   47    1    2        3                4                 3           1984   \n",
              "413   40    1    1        2                2                 3           1597   \n",
              "627   29    1    2        1                3                 2           1437   \n",
              "662   50    1    2        1                4                 3           2241   \n",
              "\n",
              "     Duration  \n",
              "41         12  \n",
              "338        24  \n",
              "171        12  \n",
              "539        18  \n",
              "425        18  \n",
              "600         7  \n",
              "527         4  \n",
              "81         15  \n",
              "142        27  \n",
              "548        12  \n",
              "617         6  \n",
              "297        10  \n",
              "781        24  \n",
              "949        24  \n",
              "415        36  \n",
              "785        18  \n",
              "133        18  \n",
              "413        10  \n",
              "627         9  \n",
              "662        21  "
            ],
            "text/html": [
              "\n",
              "  <div id=\"df-b2d8c1a4-91b9-4d40-b08c-ef00e428adf7\">\n",
              "    <div class=\"colab-df-container\">\n",
              "      <div>\n",
              "<style scoped>\n",
              "    .dataframe tbody tr th:only-of-type {\n",
              "        vertical-align: middle;\n",
              "    }\n",
              "\n",
              "    .dataframe tbody tr th {\n",
              "        vertical-align: top;\n",
              "    }\n",
              "\n",
              "    .dataframe thead th {\n",
              "        text-align: right;\n",
              "    }\n",
              "</style>\n",
              "<table border=\"1\" class=\"dataframe\">\n",
              "  <thead>\n",
              "    <tr style=\"text-align: right;\">\n",
              "      <th></th>\n",
              "      <th>Age</th>\n",
              "      <th>Sex</th>\n",
              "      <th>Job</th>\n",
              "      <th>Housing</th>\n",
              "      <th>Saving accounts</th>\n",
              "      <th>Checking account</th>\n",
              "      <th>Credit_amount</th>\n",
              "      <th>Duration</th>\n",
              "    </tr>\n",
              "  </thead>\n",
              "  <tbody>\n",
              "    <tr>\n",
              "      <th>41</th>\n",
              "      <td>26</td>\n",
              "      <td>1</td>\n",
              "      <td>2</td>\n",
              "      <td>1</td>\n",
              "      <td>2</td>\n",
              "      <td>2</td>\n",
              "      <td>1158</td>\n",
              "      <td>12</td>\n",
              "    </tr>\n",
              "    <tr>\n",
              "      <th>338</th>\n",
              "      <td>28</td>\n",
              "      <td>1</td>\n",
              "      <td>2</td>\n",
              "      <td>1</td>\n",
              "      <td>4</td>\n",
              "      <td>3</td>\n",
              "      <td>4169</td>\n",
              "      <td>24</td>\n",
              "    </tr>\n",
              "    <tr>\n",
              "      <th>171</th>\n",
              "      <td>26</td>\n",
              "      <td>0</td>\n",
              "      <td>2</td>\n",
              "      <td>1</td>\n",
              "      <td>4</td>\n",
              "      <td>3</td>\n",
              "      <td>763</td>\n",
              "      <td>12</td>\n",
              "    </tr>\n",
              "    <tr>\n",
              "      <th>539</th>\n",
              "      <td>45</td>\n",
              "      <td>0</td>\n",
              "      <td>1</td>\n",
              "      <td>1</td>\n",
              "      <td>4</td>\n",
              "      <td>1</td>\n",
              "      <td>3049</td>\n",
              "      <td>18</td>\n",
              "    </tr>\n",
              "    <tr>\n",
              "      <th>425</th>\n",
              "      <td>21</td>\n",
              "      <td>1</td>\n",
              "      <td>2</td>\n",
              "      <td>2</td>\n",
              "      <td>4</td>\n",
              "      <td>2</td>\n",
              "      <td>2779</td>\n",
              "      <td>18</td>\n",
              "    </tr>\n",
              "    <tr>\n",
              "      <th>600</th>\n",
              "      <td>45</td>\n",
              "      <td>0</td>\n",
              "      <td>2</td>\n",
              "      <td>1</td>\n",
              "      <td>4</td>\n",
              "      <td>2</td>\n",
              "      <td>2329</td>\n",
              "      <td>7</td>\n",
              "    </tr>\n",
              "    <tr>\n",
              "      <th>527</th>\n",
              "      <td>42</td>\n",
              "      <td>1</td>\n",
              "      <td>1</td>\n",
              "      <td>1</td>\n",
              "      <td>4</td>\n",
              "      <td>3</td>\n",
              "      <td>1503</td>\n",
              "      <td>4</td>\n",
              "    </tr>\n",
              "    <tr>\n",
              "      <th>81</th>\n",
              "      <td>47</td>\n",
              "      <td>1</td>\n",
              "      <td>2</td>\n",
              "      <td>1</td>\n",
              "      <td>2</td>\n",
              "      <td>3</td>\n",
              "      <td>1213</td>\n",
              "      <td>15</td>\n",
              "    </tr>\n",
              "    <tr>\n",
              "      <th>142</th>\n",
              "      <td>27</td>\n",
              "      <td>1</td>\n",
              "      <td>3</td>\n",
              "      <td>1</td>\n",
              "      <td>4</td>\n",
              "      <td>3</td>\n",
              "      <td>3416</td>\n",
              "      <td>27</td>\n",
              "    </tr>\n",
              "    <tr>\n",
              "      <th>548</th>\n",
              "      <td>24</td>\n",
              "      <td>0</td>\n",
              "      <td>1</td>\n",
              "      <td>1</td>\n",
              "      <td>4</td>\n",
              "      <td>3</td>\n",
              "      <td>626</td>\n",
              "      <td>12</td>\n",
              "    </tr>\n",
              "    <tr>\n",
              "      <th>617</th>\n",
              "      <td>37</td>\n",
              "      <td>1</td>\n",
              "      <td>2</td>\n",
              "      <td>2</td>\n",
              "      <td>4</td>\n",
              "      <td>3</td>\n",
              "      <td>3676</td>\n",
              "      <td>6</td>\n",
              "    </tr>\n",
              "    <tr>\n",
              "      <th>297</th>\n",
              "      <td>45</td>\n",
              "      <td>1</td>\n",
              "      <td>1</td>\n",
              "      <td>1</td>\n",
              "      <td>4</td>\n",
              "      <td>3</td>\n",
              "      <td>1287</td>\n",
              "      <td>10</td>\n",
              "    </tr>\n",
              "    <tr>\n",
              "      <th>781</th>\n",
              "      <td>60</td>\n",
              "      <td>1</td>\n",
              "      <td>2</td>\n",
              "      <td>1</td>\n",
              "      <td>1</td>\n",
              "      <td>3</td>\n",
              "      <td>1940</td>\n",
              "      <td>24</td>\n",
              "    </tr>\n",
              "    <tr>\n",
              "      <th>949</th>\n",
              "      <td>31</td>\n",
              "      <td>1</td>\n",
              "      <td>2</td>\n",
              "      <td>1</td>\n",
              "      <td>3</td>\n",
              "      <td>3</td>\n",
              "      <td>3621</td>\n",
              "      <td>24</td>\n",
              "    </tr>\n",
              "    <tr>\n",
              "      <th>415</th>\n",
              "      <td>35</td>\n",
              "      <td>1</td>\n",
              "      <td>2</td>\n",
              "      <td>1</td>\n",
              "      <td>4</td>\n",
              "      <td>3</td>\n",
              "      <td>5842</td>\n",
              "      <td>36</td>\n",
              "    </tr>\n",
              "    <tr>\n",
              "      <th>785</th>\n",
              "      <td>35</td>\n",
              "      <td>1</td>\n",
              "      <td>1</td>\n",
              "      <td>1</td>\n",
              "      <td>1</td>\n",
              "      <td>2</td>\n",
              "      <td>1941</td>\n",
              "      <td>18</td>\n",
              "    </tr>\n",
              "    <tr>\n",
              "      <th>133</th>\n",
              "      <td>47</td>\n",
              "      <td>1</td>\n",
              "      <td>2</td>\n",
              "      <td>3</td>\n",
              "      <td>4</td>\n",
              "      <td>3</td>\n",
              "      <td>1984</td>\n",
              "      <td>18</td>\n",
              "    </tr>\n",
              "    <tr>\n",
              "      <th>413</th>\n",
              "      <td>40</td>\n",
              "      <td>1</td>\n",
              "      <td>1</td>\n",
              "      <td>2</td>\n",
              "      <td>2</td>\n",
              "      <td>3</td>\n",
              "      <td>1597</td>\n",
              "      <td>10</td>\n",
              "    </tr>\n",
              "    <tr>\n",
              "      <th>627</th>\n",
              "      <td>29</td>\n",
              "      <td>1</td>\n",
              "      <td>2</td>\n",
              "      <td>1</td>\n",
              "      <td>3</td>\n",
              "      <td>2</td>\n",
              "      <td>1437</td>\n",
              "      <td>9</td>\n",
              "    </tr>\n",
              "    <tr>\n",
              "      <th>662</th>\n",
              "      <td>50</td>\n",
              "      <td>1</td>\n",
              "      <td>2</td>\n",
              "      <td>1</td>\n",
              "      <td>4</td>\n",
              "      <td>3</td>\n",
              "      <td>2241</td>\n",
              "      <td>21</td>\n",
              "    </tr>\n",
              "  </tbody>\n",
              "</table>\n",
              "</div>\n",
              "      <button class=\"colab-df-convert\" onclick=\"convertToInteractive('df-b2d8c1a4-91b9-4d40-b08c-ef00e428adf7')\"\n",
              "              title=\"Convert this dataframe to an interactive table.\"\n",
              "              style=\"display:none;\">\n",
              "        \n",
              "  <svg xmlns=\"http://www.w3.org/2000/svg\" height=\"24px\"viewBox=\"0 0 24 24\"\n",
              "       width=\"24px\">\n",
              "    <path d=\"M0 0h24v24H0V0z\" fill=\"none\"/>\n",
              "    <path d=\"M18.56 5.44l.94 2.06.94-2.06 2.06-.94-2.06-.94-.94-2.06-.94 2.06-2.06.94zm-11 1L8.5 8.5l.94-2.06 2.06-.94-2.06-.94L8.5 2.5l-.94 2.06-2.06.94zm10 10l.94 2.06.94-2.06 2.06-.94-2.06-.94-.94-2.06-.94 2.06-2.06.94z\"/><path d=\"M17.41 7.96l-1.37-1.37c-.4-.4-.92-.59-1.43-.59-.52 0-1.04.2-1.43.59L10.3 9.45l-7.72 7.72c-.78.78-.78 2.05 0 2.83L4 21.41c.39.39.9.59 1.41.59.51 0 1.02-.2 1.41-.59l7.78-7.78 2.81-2.81c.8-.78.8-2.07 0-2.86zM5.41 20L4 18.59l7.72-7.72 1.47 1.35L5.41 20z\"/>\n",
              "  </svg>\n",
              "      </button>\n",
              "      \n",
              "  <style>\n",
              "    .colab-df-container {\n",
              "      display:flex;\n",
              "      flex-wrap:wrap;\n",
              "      gap: 12px;\n",
              "    }\n",
              "\n",
              "    .colab-df-convert {\n",
              "      background-color: #E8F0FE;\n",
              "      border: none;\n",
              "      border-radius: 50%;\n",
              "      cursor: pointer;\n",
              "      display: none;\n",
              "      fill: #1967D2;\n",
              "      height: 32px;\n",
              "      padding: 0 0 0 0;\n",
              "      width: 32px;\n",
              "    }\n",
              "\n",
              "    .colab-df-convert:hover {\n",
              "      background-color: #E2EBFA;\n",
              "      box-shadow: 0px 1px 2px rgba(60, 64, 67, 0.3), 0px 1px 3px 1px rgba(60, 64, 67, 0.15);\n",
              "      fill: #174EA6;\n",
              "    }\n",
              "\n",
              "    [theme=dark] .colab-df-convert {\n",
              "      background-color: #3B4455;\n",
              "      fill: #D2E3FC;\n",
              "    }\n",
              "\n",
              "    [theme=dark] .colab-df-convert:hover {\n",
              "      background-color: #434B5C;\n",
              "      box-shadow: 0px 1px 3px 1px rgba(0, 0, 0, 0.15);\n",
              "      filter: drop-shadow(0px 1px 2px rgba(0, 0, 0, 0.3));\n",
              "      fill: #FFFFFF;\n",
              "    }\n",
              "  </style>\n",
              "\n",
              "      <script>\n",
              "        const buttonEl =\n",
              "          document.querySelector('#df-b2d8c1a4-91b9-4d40-b08c-ef00e428adf7 button.colab-df-convert');\n",
              "        buttonEl.style.display =\n",
              "          google.colab.kernel.accessAllowed ? 'block' : 'none';\n",
              "\n",
              "        async function convertToInteractive(key) {\n",
              "          const element = document.querySelector('#df-b2d8c1a4-91b9-4d40-b08c-ef00e428adf7');\n",
              "          const dataTable =\n",
              "            await google.colab.kernel.invokeFunction('convertToInteractive',\n",
              "                                                     [key], {});\n",
              "          if (!dataTable) return;\n",
              "\n",
              "          const docLinkHtml = 'Like what you see? Visit the ' +\n",
              "            '<a target=\"_blank\" href=https://colab.research.google.com/notebooks/data_table.ipynb>data table notebook</a>'\n",
              "            + ' to learn more about interactive tables.';\n",
              "          element.innerHTML = '';\n",
              "          dataTable['output_type'] = 'display_data';\n",
              "          await google.colab.output.renderOutput(dataTable, element);\n",
              "          const docLink = document.createElement('div');\n",
              "          docLink.innerHTML = docLinkHtml;\n",
              "          element.appendChild(docLink);\n",
              "        }\n",
              "      </script>\n",
              "    </div>\n",
              "  </div>\n",
              "  "
            ]
          },
          "metadata": {},
          "execution_count": 292
        }
      ]
    },
    {
      "cell_type": "markdown",
      "source": [
        "**3.SCALING**"
      ],
      "metadata": {
        "id": "olZcU140tkt4"
      }
    },
    {
      "cell_type": "markdown",
      "source": [
        "We do scaling dataset by StandardScaler"
      ],
      "metadata": {
        "id": "9SK6RJ_L6kFN"
      }
    },
    {
      "cell_type": "code",
      "source": [
        "from sklearn.preprocessing import StandardScaler\n",
        "X = StandardScaler().fit(df_features).transform(df_features.astype(float))\n",
        "X[0:10]"
      ],
      "metadata": {
        "colab": {
          "base_uri": "https://localhost:8080/"
        },
        "id": "RWSAISHyDXTi",
        "outputId": "205d4600-05b4-43e8-d748-6cd3d5c6fe3c"
      },
      "execution_count": null,
      "outputs": [
        {
          "output_type": "execute_result",
          "data": {
            "text/plain": [
              "array([[ 2.76645648,  0.67028006,  0.14694918, -0.58560305,  0.4634091 ,\n",
              "         0.65383104, -0.74513141, -1.23647786],\n",
              "       [-1.19140394, -1.49191369,  0.14694918, -0.58560305,  0.4634091 ,\n",
              "        -1.00143742,  0.94981679,  2.24819436],\n",
              "       [ 1.18331231,  0.67028006, -1.38377145, -0.58560305,  0.4634091 ,\n",
              "         0.65383104, -0.41656241, -0.73866754],\n",
              "       [ 0.8315025 ,  0.67028006,  0.14694918,  2.37947568,  0.4634091 ,\n",
              "         0.65383104,  1.63424694,  1.75038404],\n",
              "       [ 1.53512213,  0.67028006,  0.14694918,  2.37947568,  0.4634091 ,\n",
              "         0.65383104,  0.5666635 ,  0.25695309],\n",
              "       [-0.04802204,  0.67028006, -1.38377145,  2.37947568,  0.4634091 ,\n",
              "         0.65383104,  2.05000901,  1.25257373],\n",
              "       [ 1.53512213,  0.67028006,  0.14694918, -0.58560305, -2.02135821,\n",
              "         0.65383104, -0.15462876,  0.25695309],\n",
              "       [-0.04802204,  0.67028006,  1.67766981,  0.89693631,  0.4634091 ,\n",
              "        -1.00143742,  1.30319683,  1.25257373],\n",
              "       [ 2.23874176,  0.67028006, -1.38377145, -0.58560305, -3.26374187,\n",
              "         0.65383104, -0.07523344, -0.73866754],\n",
              "       [-0.66368922,  0.67028006,  1.67766981, -0.58560305,  0.4634091 ,\n",
              "        -1.00143742,  0.69568089,  0.75476341]])"
            ]
          },
          "metadata": {},
          "execution_count": 293
        }
      ]
    },
    {
      "cell_type": "markdown",
      "source": [
        "Array data are transformed to be dataframe."
      ],
      "metadata": {
        "id": "OS6yPMuX6uj9"
      }
    },
    {
      "cell_type": "code",
      "source": [
        "features=['Age','Sex','Job','Housing','Saving accounts','Checking account','Credit_amount','Duration']\n",
        "new_df_features = pd.DataFrame(data=X, columns=features)\n",
        "new_df_features.head(10)"
      ],
      "metadata": {
        "colab": {
          "base_uri": "https://localhost:8080/",
          "height": 363
        },
        "id": "HQpBUWxUoxu8",
        "outputId": "c896ff60-e9b9-4870-c2fe-c046b0993290"
      },
      "execution_count": null,
      "outputs": [
        {
          "output_type": "execute_result",
          "data": {
            "text/plain": [
              "        Age       Sex       Job   Housing  Saving accounts  Checking account  \\\n",
              "0  2.766456  0.670280  0.146949 -0.585603         0.463409          0.653831   \n",
              "1 -1.191404 -1.491914  0.146949 -0.585603         0.463409         -1.001437   \n",
              "2  1.183312  0.670280 -1.383771 -0.585603         0.463409          0.653831   \n",
              "3  0.831502  0.670280  0.146949  2.379476         0.463409          0.653831   \n",
              "4  1.535122  0.670280  0.146949  2.379476         0.463409          0.653831   \n",
              "5 -0.048022  0.670280 -1.383771  2.379476         0.463409          0.653831   \n",
              "6  1.535122  0.670280  0.146949 -0.585603        -2.021358          0.653831   \n",
              "7 -0.048022  0.670280  1.677670  0.896936         0.463409         -1.001437   \n",
              "8  2.238742  0.670280 -1.383771 -0.585603        -3.263742          0.653831   \n",
              "9 -0.663689  0.670280  1.677670 -0.585603         0.463409         -1.001437   \n",
              "\n",
              "   Credit_amount  Duration  \n",
              "0      -0.745131 -1.236478  \n",
              "1       0.949817  2.248194  \n",
              "2      -0.416562 -0.738668  \n",
              "3       1.634247  1.750384  \n",
              "4       0.566664  0.256953  \n",
              "5       2.050009  1.252574  \n",
              "6      -0.154629  0.256953  \n",
              "7       1.303197  1.252574  \n",
              "8      -0.075233 -0.738668  \n",
              "9       0.695681  0.754763  "
            ],
            "text/html": [
              "\n",
              "  <div id=\"df-14090295-6bba-43b3-94ae-e74c00a2e100\">\n",
              "    <div class=\"colab-df-container\">\n",
              "      <div>\n",
              "<style scoped>\n",
              "    .dataframe tbody tr th:only-of-type {\n",
              "        vertical-align: middle;\n",
              "    }\n",
              "\n",
              "    .dataframe tbody tr th {\n",
              "        vertical-align: top;\n",
              "    }\n",
              "\n",
              "    .dataframe thead th {\n",
              "        text-align: right;\n",
              "    }\n",
              "</style>\n",
              "<table border=\"1\" class=\"dataframe\">\n",
              "  <thead>\n",
              "    <tr style=\"text-align: right;\">\n",
              "      <th></th>\n",
              "      <th>Age</th>\n",
              "      <th>Sex</th>\n",
              "      <th>Job</th>\n",
              "      <th>Housing</th>\n",
              "      <th>Saving accounts</th>\n",
              "      <th>Checking account</th>\n",
              "      <th>Credit_amount</th>\n",
              "      <th>Duration</th>\n",
              "    </tr>\n",
              "  </thead>\n",
              "  <tbody>\n",
              "    <tr>\n",
              "      <th>0</th>\n",
              "      <td>2.766456</td>\n",
              "      <td>0.670280</td>\n",
              "      <td>0.146949</td>\n",
              "      <td>-0.585603</td>\n",
              "      <td>0.463409</td>\n",
              "      <td>0.653831</td>\n",
              "      <td>-0.745131</td>\n",
              "      <td>-1.236478</td>\n",
              "    </tr>\n",
              "    <tr>\n",
              "      <th>1</th>\n",
              "      <td>-1.191404</td>\n",
              "      <td>-1.491914</td>\n",
              "      <td>0.146949</td>\n",
              "      <td>-0.585603</td>\n",
              "      <td>0.463409</td>\n",
              "      <td>-1.001437</td>\n",
              "      <td>0.949817</td>\n",
              "      <td>2.248194</td>\n",
              "    </tr>\n",
              "    <tr>\n",
              "      <th>2</th>\n",
              "      <td>1.183312</td>\n",
              "      <td>0.670280</td>\n",
              "      <td>-1.383771</td>\n",
              "      <td>-0.585603</td>\n",
              "      <td>0.463409</td>\n",
              "      <td>0.653831</td>\n",
              "      <td>-0.416562</td>\n",
              "      <td>-0.738668</td>\n",
              "    </tr>\n",
              "    <tr>\n",
              "      <th>3</th>\n",
              "      <td>0.831502</td>\n",
              "      <td>0.670280</td>\n",
              "      <td>0.146949</td>\n",
              "      <td>2.379476</td>\n",
              "      <td>0.463409</td>\n",
              "      <td>0.653831</td>\n",
              "      <td>1.634247</td>\n",
              "      <td>1.750384</td>\n",
              "    </tr>\n",
              "    <tr>\n",
              "      <th>4</th>\n",
              "      <td>1.535122</td>\n",
              "      <td>0.670280</td>\n",
              "      <td>0.146949</td>\n",
              "      <td>2.379476</td>\n",
              "      <td>0.463409</td>\n",
              "      <td>0.653831</td>\n",
              "      <td>0.566664</td>\n",
              "      <td>0.256953</td>\n",
              "    </tr>\n",
              "    <tr>\n",
              "      <th>5</th>\n",
              "      <td>-0.048022</td>\n",
              "      <td>0.670280</td>\n",
              "      <td>-1.383771</td>\n",
              "      <td>2.379476</td>\n",
              "      <td>0.463409</td>\n",
              "      <td>0.653831</td>\n",
              "      <td>2.050009</td>\n",
              "      <td>1.252574</td>\n",
              "    </tr>\n",
              "    <tr>\n",
              "      <th>6</th>\n",
              "      <td>1.535122</td>\n",
              "      <td>0.670280</td>\n",
              "      <td>0.146949</td>\n",
              "      <td>-0.585603</td>\n",
              "      <td>-2.021358</td>\n",
              "      <td>0.653831</td>\n",
              "      <td>-0.154629</td>\n",
              "      <td>0.256953</td>\n",
              "    </tr>\n",
              "    <tr>\n",
              "      <th>7</th>\n",
              "      <td>-0.048022</td>\n",
              "      <td>0.670280</td>\n",
              "      <td>1.677670</td>\n",
              "      <td>0.896936</td>\n",
              "      <td>0.463409</td>\n",
              "      <td>-1.001437</td>\n",
              "      <td>1.303197</td>\n",
              "      <td>1.252574</td>\n",
              "    </tr>\n",
              "    <tr>\n",
              "      <th>8</th>\n",
              "      <td>2.238742</td>\n",
              "      <td>0.670280</td>\n",
              "      <td>-1.383771</td>\n",
              "      <td>-0.585603</td>\n",
              "      <td>-3.263742</td>\n",
              "      <td>0.653831</td>\n",
              "      <td>-0.075233</td>\n",
              "      <td>-0.738668</td>\n",
              "    </tr>\n",
              "    <tr>\n",
              "      <th>9</th>\n",
              "      <td>-0.663689</td>\n",
              "      <td>0.670280</td>\n",
              "      <td>1.677670</td>\n",
              "      <td>-0.585603</td>\n",
              "      <td>0.463409</td>\n",
              "      <td>-1.001437</td>\n",
              "      <td>0.695681</td>\n",
              "      <td>0.754763</td>\n",
              "    </tr>\n",
              "  </tbody>\n",
              "</table>\n",
              "</div>\n",
              "      <button class=\"colab-df-convert\" onclick=\"convertToInteractive('df-14090295-6bba-43b3-94ae-e74c00a2e100')\"\n",
              "              title=\"Convert this dataframe to an interactive table.\"\n",
              "              style=\"display:none;\">\n",
              "        \n",
              "  <svg xmlns=\"http://www.w3.org/2000/svg\" height=\"24px\"viewBox=\"0 0 24 24\"\n",
              "       width=\"24px\">\n",
              "    <path d=\"M0 0h24v24H0V0z\" fill=\"none\"/>\n",
              "    <path d=\"M18.56 5.44l.94 2.06.94-2.06 2.06-.94-2.06-.94-.94-2.06-.94 2.06-2.06.94zm-11 1L8.5 8.5l.94-2.06 2.06-.94-2.06-.94L8.5 2.5l-.94 2.06-2.06.94zm10 10l.94 2.06.94-2.06 2.06-.94-2.06-.94-.94-2.06-.94 2.06-2.06.94z\"/><path d=\"M17.41 7.96l-1.37-1.37c-.4-.4-.92-.59-1.43-.59-.52 0-1.04.2-1.43.59L10.3 9.45l-7.72 7.72c-.78.78-.78 2.05 0 2.83L4 21.41c.39.39.9.59 1.41.59.51 0 1.02-.2 1.41-.59l7.78-7.78 2.81-2.81c.8-.78.8-2.07 0-2.86zM5.41 20L4 18.59l7.72-7.72 1.47 1.35L5.41 20z\"/>\n",
              "  </svg>\n",
              "      </button>\n",
              "      \n",
              "  <style>\n",
              "    .colab-df-container {\n",
              "      display:flex;\n",
              "      flex-wrap:wrap;\n",
              "      gap: 12px;\n",
              "    }\n",
              "\n",
              "    .colab-df-convert {\n",
              "      background-color: #E8F0FE;\n",
              "      border: none;\n",
              "      border-radius: 50%;\n",
              "      cursor: pointer;\n",
              "      display: none;\n",
              "      fill: #1967D2;\n",
              "      height: 32px;\n",
              "      padding: 0 0 0 0;\n",
              "      width: 32px;\n",
              "    }\n",
              "\n",
              "    .colab-df-convert:hover {\n",
              "      background-color: #E2EBFA;\n",
              "      box-shadow: 0px 1px 2px rgba(60, 64, 67, 0.3), 0px 1px 3px 1px rgba(60, 64, 67, 0.15);\n",
              "      fill: #174EA6;\n",
              "    }\n",
              "\n",
              "    [theme=dark] .colab-df-convert {\n",
              "      background-color: #3B4455;\n",
              "      fill: #D2E3FC;\n",
              "    }\n",
              "\n",
              "    [theme=dark] .colab-df-convert:hover {\n",
              "      background-color: #434B5C;\n",
              "      box-shadow: 0px 1px 3px 1px rgba(0, 0, 0, 0.15);\n",
              "      filter: drop-shadow(0px 1px 2px rgba(0, 0, 0, 0.3));\n",
              "      fill: #FFFFFF;\n",
              "    }\n",
              "  </style>\n",
              "\n",
              "      <script>\n",
              "        const buttonEl =\n",
              "          document.querySelector('#df-14090295-6bba-43b3-94ae-e74c00a2e100 button.colab-df-convert');\n",
              "        buttonEl.style.display =\n",
              "          google.colab.kernel.accessAllowed ? 'block' : 'none';\n",
              "\n",
              "        async function convertToInteractive(key) {\n",
              "          const element = document.querySelector('#df-14090295-6bba-43b3-94ae-e74c00a2e100');\n",
              "          const dataTable =\n",
              "            await google.colab.kernel.invokeFunction('convertToInteractive',\n",
              "                                                     [key], {});\n",
              "          if (!dataTable) return;\n",
              "\n",
              "          const docLinkHtml = 'Like what you see? Visit the ' +\n",
              "            '<a target=\"_blank\" href=https://colab.research.google.com/notebooks/data_table.ipynb>data table notebook</a>'\n",
              "            + ' to learn more about interactive tables.';\n",
              "          element.innerHTML = '';\n",
              "          dataTable['output_type'] = 'display_data';\n",
              "          await google.colab.output.renderOutput(dataTable, element);\n",
              "          const docLink = document.createElement('div');\n",
              "          docLink.innerHTML = docLinkHtml;\n",
              "          element.appendChild(docLink);\n",
              "        }\n",
              "      </script>\n",
              "    </div>\n",
              "  </div>\n",
              "  "
            ]
          },
          "metadata": {},
          "execution_count": 294
        }
      ]
    },
    {
      "cell_type": "markdown",
      "source": [
        "**4.FACTOR ANALYZER**"
      ],
      "metadata": {
        "id": "RwIDGEkuuHJb"
      }
    },
    {
      "cell_type": "markdown",
      "source": [
        "We apply \"Factor Analysis\" to do analysis data \" getting corelation each data.We have to get norelation number > 0.5 to make decision that there is coralation betwen each feature."
      ],
      "metadata": {
        "id": "XjMNfrO2RssK"
      }
    },
    {
      "cell_type": "code",
      "source": [
        "df_corr=df_features.corr() #We have to find value > 0.5 based on table below\n",
        "df_corr"
      ],
      "metadata": {
        "colab": {
          "base_uri": "https://localhost:8080/",
          "height": 300
        },
        "id": "3DJcgJUFV3xG",
        "outputId": "7865fa2f-2287-4143-d153-14c7f8090627"
      },
      "execution_count": null,
      "outputs": [
        {
          "output_type": "execute_result",
          "data": {
            "text/plain": [
              "                       Age       Sex       Job   Housing  Saving accounts  \\\n",
              "Age               1.000000  0.161694  0.015673  0.112051        -0.015772   \n",
              "Sex               0.161694  1.000000  0.070298 -0.033818         0.014425   \n",
              "Job               0.015673  0.070298  1.000000  0.101939         0.034596   \n",
              "Housing           0.112051 -0.033818  0.101939  1.000000         0.033771   \n",
              "Saving accounts  -0.015772  0.014425  0.034596  0.033771         1.000000   \n",
              "Checking account  0.027176  0.012705  0.043277  0.004969         0.015763   \n",
              "Credit_amount     0.032716  0.093482  0.285385  0.171585         0.077929   \n",
              "Duration         -0.036136  0.081432  0.210910  0.137434         0.043274   \n",
              "\n",
              "                  Checking account  Credit_amount  Duration  \n",
              "Age                       0.027176       0.032716 -0.036136  \n",
              "Sex                       0.012705       0.093482  0.081432  \n",
              "Job                       0.043277       0.285385  0.210910  \n",
              "Housing                   0.004969       0.171585  0.137434  \n",
              "Saving accounts           0.015763       0.077929  0.043274  \n",
              "Checking account          1.000000      -0.006953 -0.004163  \n",
              "Credit_amount            -0.006953       1.000000  0.624984  \n",
              "Duration                 -0.004163       0.624984  1.000000  "
            ],
            "text/html": [
              "\n",
              "  <div id=\"df-e5ccaafc-b8b3-4add-bd35-a6814b49fbae\">\n",
              "    <div class=\"colab-df-container\">\n",
              "      <div>\n",
              "<style scoped>\n",
              "    .dataframe tbody tr th:only-of-type {\n",
              "        vertical-align: middle;\n",
              "    }\n",
              "\n",
              "    .dataframe tbody tr th {\n",
              "        vertical-align: top;\n",
              "    }\n",
              "\n",
              "    .dataframe thead th {\n",
              "        text-align: right;\n",
              "    }\n",
              "</style>\n",
              "<table border=\"1\" class=\"dataframe\">\n",
              "  <thead>\n",
              "    <tr style=\"text-align: right;\">\n",
              "      <th></th>\n",
              "      <th>Age</th>\n",
              "      <th>Sex</th>\n",
              "      <th>Job</th>\n",
              "      <th>Housing</th>\n",
              "      <th>Saving accounts</th>\n",
              "      <th>Checking account</th>\n",
              "      <th>Credit_amount</th>\n",
              "      <th>Duration</th>\n",
              "    </tr>\n",
              "  </thead>\n",
              "  <tbody>\n",
              "    <tr>\n",
              "      <th>Age</th>\n",
              "      <td>1.000000</td>\n",
              "      <td>0.161694</td>\n",
              "      <td>0.015673</td>\n",
              "      <td>0.112051</td>\n",
              "      <td>-0.015772</td>\n",
              "      <td>0.027176</td>\n",
              "      <td>0.032716</td>\n",
              "      <td>-0.036136</td>\n",
              "    </tr>\n",
              "    <tr>\n",
              "      <th>Sex</th>\n",
              "      <td>0.161694</td>\n",
              "      <td>1.000000</td>\n",
              "      <td>0.070298</td>\n",
              "      <td>-0.033818</td>\n",
              "      <td>0.014425</td>\n",
              "      <td>0.012705</td>\n",
              "      <td>0.093482</td>\n",
              "      <td>0.081432</td>\n",
              "    </tr>\n",
              "    <tr>\n",
              "      <th>Job</th>\n",
              "      <td>0.015673</td>\n",
              "      <td>0.070298</td>\n",
              "      <td>1.000000</td>\n",
              "      <td>0.101939</td>\n",
              "      <td>0.034596</td>\n",
              "      <td>0.043277</td>\n",
              "      <td>0.285385</td>\n",
              "      <td>0.210910</td>\n",
              "    </tr>\n",
              "    <tr>\n",
              "      <th>Housing</th>\n",
              "      <td>0.112051</td>\n",
              "      <td>-0.033818</td>\n",
              "      <td>0.101939</td>\n",
              "      <td>1.000000</td>\n",
              "      <td>0.033771</td>\n",
              "      <td>0.004969</td>\n",
              "      <td>0.171585</td>\n",
              "      <td>0.137434</td>\n",
              "    </tr>\n",
              "    <tr>\n",
              "      <th>Saving accounts</th>\n",
              "      <td>-0.015772</td>\n",
              "      <td>0.014425</td>\n",
              "      <td>0.034596</td>\n",
              "      <td>0.033771</td>\n",
              "      <td>1.000000</td>\n",
              "      <td>0.015763</td>\n",
              "      <td>0.077929</td>\n",
              "      <td>0.043274</td>\n",
              "    </tr>\n",
              "    <tr>\n",
              "      <th>Checking account</th>\n",
              "      <td>0.027176</td>\n",
              "      <td>0.012705</td>\n",
              "      <td>0.043277</td>\n",
              "      <td>0.004969</td>\n",
              "      <td>0.015763</td>\n",
              "      <td>1.000000</td>\n",
              "      <td>-0.006953</td>\n",
              "      <td>-0.004163</td>\n",
              "    </tr>\n",
              "    <tr>\n",
              "      <th>Credit_amount</th>\n",
              "      <td>0.032716</td>\n",
              "      <td>0.093482</td>\n",
              "      <td>0.285385</td>\n",
              "      <td>0.171585</td>\n",
              "      <td>0.077929</td>\n",
              "      <td>-0.006953</td>\n",
              "      <td>1.000000</td>\n",
              "      <td>0.624984</td>\n",
              "    </tr>\n",
              "    <tr>\n",
              "      <th>Duration</th>\n",
              "      <td>-0.036136</td>\n",
              "      <td>0.081432</td>\n",
              "      <td>0.210910</td>\n",
              "      <td>0.137434</td>\n",
              "      <td>0.043274</td>\n",
              "      <td>-0.004163</td>\n",
              "      <td>0.624984</td>\n",
              "      <td>1.000000</td>\n",
              "    </tr>\n",
              "  </tbody>\n",
              "</table>\n",
              "</div>\n",
              "      <button class=\"colab-df-convert\" onclick=\"convertToInteractive('df-e5ccaafc-b8b3-4add-bd35-a6814b49fbae')\"\n",
              "              title=\"Convert this dataframe to an interactive table.\"\n",
              "              style=\"display:none;\">\n",
              "        \n",
              "  <svg xmlns=\"http://www.w3.org/2000/svg\" height=\"24px\"viewBox=\"0 0 24 24\"\n",
              "       width=\"24px\">\n",
              "    <path d=\"M0 0h24v24H0V0z\" fill=\"none\"/>\n",
              "    <path d=\"M18.56 5.44l.94 2.06.94-2.06 2.06-.94-2.06-.94-.94-2.06-.94 2.06-2.06.94zm-11 1L8.5 8.5l.94-2.06 2.06-.94-2.06-.94L8.5 2.5l-.94 2.06-2.06.94zm10 10l.94 2.06.94-2.06 2.06-.94-2.06-.94-.94-2.06-.94 2.06-2.06.94z\"/><path d=\"M17.41 7.96l-1.37-1.37c-.4-.4-.92-.59-1.43-.59-.52 0-1.04.2-1.43.59L10.3 9.45l-7.72 7.72c-.78.78-.78 2.05 0 2.83L4 21.41c.39.39.9.59 1.41.59.51 0 1.02-.2 1.41-.59l7.78-7.78 2.81-2.81c.8-.78.8-2.07 0-2.86zM5.41 20L4 18.59l7.72-7.72 1.47 1.35L5.41 20z\"/>\n",
              "  </svg>\n",
              "      </button>\n",
              "      \n",
              "  <style>\n",
              "    .colab-df-container {\n",
              "      display:flex;\n",
              "      flex-wrap:wrap;\n",
              "      gap: 12px;\n",
              "    }\n",
              "\n",
              "    .colab-df-convert {\n",
              "      background-color: #E8F0FE;\n",
              "      border: none;\n",
              "      border-radius: 50%;\n",
              "      cursor: pointer;\n",
              "      display: none;\n",
              "      fill: #1967D2;\n",
              "      height: 32px;\n",
              "      padding: 0 0 0 0;\n",
              "      width: 32px;\n",
              "    }\n",
              "\n",
              "    .colab-df-convert:hover {\n",
              "      background-color: #E2EBFA;\n",
              "      box-shadow: 0px 1px 2px rgba(60, 64, 67, 0.3), 0px 1px 3px 1px rgba(60, 64, 67, 0.15);\n",
              "      fill: #174EA6;\n",
              "    }\n",
              "\n",
              "    [theme=dark] .colab-df-convert {\n",
              "      background-color: #3B4455;\n",
              "      fill: #D2E3FC;\n",
              "    }\n",
              "\n",
              "    [theme=dark] .colab-df-convert:hover {\n",
              "      background-color: #434B5C;\n",
              "      box-shadow: 0px 1px 3px 1px rgba(0, 0, 0, 0.15);\n",
              "      filter: drop-shadow(0px 1px 2px rgba(0, 0, 0, 0.3));\n",
              "      fill: #FFFFFF;\n",
              "    }\n",
              "  </style>\n",
              "\n",
              "      <script>\n",
              "        const buttonEl =\n",
              "          document.querySelector('#df-e5ccaafc-b8b3-4add-bd35-a6814b49fbae button.colab-df-convert');\n",
              "        buttonEl.style.display =\n",
              "          google.colab.kernel.accessAllowed ? 'block' : 'none';\n",
              "\n",
              "        async function convertToInteractive(key) {\n",
              "          const element = document.querySelector('#df-e5ccaafc-b8b3-4add-bd35-a6814b49fbae');\n",
              "          const dataTable =\n",
              "            await google.colab.kernel.invokeFunction('convertToInteractive',\n",
              "                                                     [key], {});\n",
              "          if (!dataTable) return;\n",
              "\n",
              "          const docLinkHtml = 'Like what you see? Visit the ' +\n",
              "            '<a target=\"_blank\" href=https://colab.research.google.com/notebooks/data_table.ipynb>data table notebook</a>'\n",
              "            + ' to learn more about interactive tables.';\n",
              "          element.innerHTML = '';\n",
              "          dataTable['output_type'] = 'display_data';\n",
              "          await google.colab.output.renderOutput(dataTable, element);\n",
              "          const docLink = document.createElement('div');\n",
              "          docLink.innerHTML = docLinkHtml;\n",
              "          element.appendChild(docLink);\n",
              "        }\n",
              "      </script>\n",
              "    </div>\n",
              "  </div>\n",
              "  "
            ]
          },
          "metadata": {},
          "execution_count": 295
        }
      ]
    },
    {
      "cell_type": "code",
      "source": [
        "!pip install factor_analyzer\n",
        "from factor_analyzer import FactorAnalyzer"
      ],
      "metadata": {
        "colab": {
          "base_uri": "https://localhost:8080/"
        },
        "id": "zaPUbGKSYeWN",
        "outputId": "5a0e573d-e5f8-4980-d901-ee49ce03e714"
      },
      "execution_count": null,
      "outputs": [
        {
          "output_type": "stream",
          "name": "stdout",
          "text": [
            "Looking in indexes: https://pypi.org/simple, https://us-python.pkg.dev/colab-wheels/public/simple/\n",
            "Collecting factor_analyzer\n",
            "  Downloading factor_analyzer-0.4.0.tar.gz (41 kB)\n",
            "\u001b[K     |████████████████████████████████| 41 kB 363 kB/s \n",
            "\u001b[?25hRequirement already satisfied: pandas in /usr/local/lib/python3.7/dist-packages (from factor_analyzer) (1.3.5)\n",
            "Requirement already satisfied: scipy in /usr/local/lib/python3.7/dist-packages (from factor_analyzer) (1.7.3)\n",
            "Requirement already satisfied: numpy in /usr/local/lib/python3.7/dist-packages (from factor_analyzer) (1.21.6)\n",
            "Requirement already satisfied: scikit-learn in /usr/local/lib/python3.7/dist-packages (from factor_analyzer) (1.0.2)\n",
            "Requirement already satisfied: pytz>=2017.3 in /usr/local/lib/python3.7/dist-packages (from pandas->factor_analyzer) (2022.1)\n",
            "Requirement already satisfied: python-dateutil>=2.7.3 in /usr/local/lib/python3.7/dist-packages (from pandas->factor_analyzer) (2.8.2)\n",
            "Requirement already satisfied: six>=1.5 in /usr/local/lib/python3.7/dist-packages (from python-dateutil>=2.7.3->pandas->factor_analyzer) (1.15.0)\n",
            "Requirement already satisfied: joblib>=0.11 in /usr/local/lib/python3.7/dist-packages (from scikit-learn->factor_analyzer) (1.1.0)\n",
            "Requirement already satisfied: threadpoolctl>=2.0.0 in /usr/local/lib/python3.7/dist-packages (from scikit-learn->factor_analyzer) (3.1.0)\n",
            "Building wheels for collected packages: factor-analyzer\n",
            "  Building wheel for factor-analyzer (setup.py) ... \u001b[?25l\u001b[?25hdone\n",
            "  Created wheel for factor-analyzer: filename=factor_analyzer-0.4.0-py3-none-any.whl size=41455 sha256=14899f1ebe989ad237b23e075e11eec651a827e672f2b351a01717d238716ba3\n",
            "  Stored in directory: /root/.cache/pip/wheels/ac/00/37/1f0e8a5039f9e9f207c4405bbce0796f07701eb377bfc6cc76\n",
            "Successfully built factor-analyzer\n",
            "Installing collected packages: factor-analyzer\n",
            "Successfully installed factor-analyzer-0.4.0\n"
          ]
        }
      ]
    },
    {
      "cell_type": "code",
      "source": [
        "from factor_analyzer.factor_analyzer import calculate_kmo\n",
        "from factor_analyzer.factor_analyzer import calculate_bartlett_sphericity"
      ],
      "metadata": {
        "id": "-1EQK-NpZaSO"
      },
      "execution_count": null,
      "outputs": []
    },
    {
      "cell_type": "markdown",
      "source": [
        "We can use p value (lower than 0.05 ---> cofident level 95%) to make conclution that there is coralation between each feature. "
      ],
      "metadata": {
        "id": "8TAh4MVPS1Gl"
      }
    },
    {
      "cell_type": "code",
      "source": [
        "_,p=calculate_bartlett_sphericity(df_features) # p vaue is 2.71 -128 < 0.05\n",
        "print('p value:',p)"
      ],
      "metadata": {
        "colab": {
          "base_uri": "https://localhost:8080/"
        },
        "id": "It9ShwKzXlgs",
        "outputId": "6780e5c6-2c61-4681-cb81-106788b65415"
      },
      "execution_count": null,
      "outputs": [
        {
          "output_type": "stream",
          "name": "stdout",
          "text": [
            "p value: 2.7102932709354966e-128\n"
          ]
        }
      ]
    },
    {
      "cell_type": "code",
      "source": [
        "F_A=FactorAnalyzer()\n",
        "F_A.fit(df_features)"
      ],
      "metadata": {
        "colab": {
          "base_uri": "https://localhost:8080/"
        },
        "id": "hcZ5pJZMa4o9",
        "outputId": "83432af0-a9fd-4601-8181-af241ab5709c"
      },
      "execution_count": null,
      "outputs": [
        {
          "output_type": "execute_result",
          "data": {
            "text/plain": [
              "FactorAnalyzer(rotation_kwargs={})"
            ]
          },
          "metadata": {},
          "execution_count": 299
        }
      ]
    },
    {
      "cell_type": "markdown",
      "source": [
        "We can choise the eigen values that is bigger than 1 (best practise)"
      ],
      "metadata": {
        "id": "bsakF-OrTHIw"
      }
    },
    {
      "cell_type": "code",
      "source": [
        "ev,v=F_A.get_eigenvalues()\n",
        "ev"
      ],
      "metadata": {
        "colab": {
          "base_uri": "https://localhost:8080/"
        },
        "id": "XNQNMhhBbZfe",
        "outputId": "94f99a90-dfaa-4cb4-f05c-7e359ce2cda9"
      },
      "execution_count": null,
      "outputs": [
        {
          "output_type": "execute_result",
          "data": {
            "text/plain": [
              "array([1.88515115, 1.15924806, 1.01677571, 1.01051569, 0.98050739,\n",
              "       0.83550502, 0.74729704, 0.36499994])"
            ]
          },
          "metadata": {},
          "execution_count": 300
        }
      ]
    },
    {
      "cell_type": "code",
      "source": [
        "#Based eigenvalue list above, we have 4 factor (>1)\n",
        "F_A=FactorAnalyzer(n_factors=4)\n",
        "F_A.fit(df_features)\n",
        "df_F_A=pd.DataFrame(F_A.loadings_,index=df_features.columns)\n",
        "df_F_A.columns=['Fac1','Fac2','Fac3','Fac4']\n",
        "df_F_A"
      ],
      "metadata": {
        "colab": {
          "base_uri": "https://localhost:8080/",
          "height": 300
        },
        "id": "Jo2TRjRwfFE-",
        "outputId": "cf8b003d-df83-4608-9a4f-48eb7d47a22c"
      },
      "execution_count": null,
      "outputs": [
        {
          "output_type": "execute_result",
          "data": {
            "text/plain": [
              "                      Fac1      Fac2      Fac3      Fac4\n",
              "Age              -0.122938  1.038532  0.183702 -0.070226\n",
              "Sex               0.075951  0.151324 -0.054462  0.086887\n",
              "Job               0.244527 -0.021998  0.021020  0.266368\n",
              "Housing           0.052633  0.135385  1.001764  0.014667\n",
              "Saving accounts   0.068672 -0.019950  0.013902  0.038140\n",
              "Checking account -0.051923  0.002871  0.000233  0.161084\n",
              "Credit_amount     1.026438  0.072702 -0.016790 -0.276232\n",
              "Duration          0.740903 -0.010424 -0.006474 -0.163216"
            ],
            "text/html": [
              "\n",
              "  <div id=\"df-aaee253b-3c13-429e-ad6d-ccfed40f0bab\">\n",
              "    <div class=\"colab-df-container\">\n",
              "      <div>\n",
              "<style scoped>\n",
              "    .dataframe tbody tr th:only-of-type {\n",
              "        vertical-align: middle;\n",
              "    }\n",
              "\n",
              "    .dataframe tbody tr th {\n",
              "        vertical-align: top;\n",
              "    }\n",
              "\n",
              "    .dataframe thead th {\n",
              "        text-align: right;\n",
              "    }\n",
              "</style>\n",
              "<table border=\"1\" class=\"dataframe\">\n",
              "  <thead>\n",
              "    <tr style=\"text-align: right;\">\n",
              "      <th></th>\n",
              "      <th>Fac1</th>\n",
              "      <th>Fac2</th>\n",
              "      <th>Fac3</th>\n",
              "      <th>Fac4</th>\n",
              "    </tr>\n",
              "  </thead>\n",
              "  <tbody>\n",
              "    <tr>\n",
              "      <th>Age</th>\n",
              "      <td>-0.122938</td>\n",
              "      <td>1.038532</td>\n",
              "      <td>0.183702</td>\n",
              "      <td>-0.070226</td>\n",
              "    </tr>\n",
              "    <tr>\n",
              "      <th>Sex</th>\n",
              "      <td>0.075951</td>\n",
              "      <td>0.151324</td>\n",
              "      <td>-0.054462</td>\n",
              "      <td>0.086887</td>\n",
              "    </tr>\n",
              "    <tr>\n",
              "      <th>Job</th>\n",
              "      <td>0.244527</td>\n",
              "      <td>-0.021998</td>\n",
              "      <td>0.021020</td>\n",
              "      <td>0.266368</td>\n",
              "    </tr>\n",
              "    <tr>\n",
              "      <th>Housing</th>\n",
              "      <td>0.052633</td>\n",
              "      <td>0.135385</td>\n",
              "      <td>1.001764</td>\n",
              "      <td>0.014667</td>\n",
              "    </tr>\n",
              "    <tr>\n",
              "      <th>Saving accounts</th>\n",
              "      <td>0.068672</td>\n",
              "      <td>-0.019950</td>\n",
              "      <td>0.013902</td>\n",
              "      <td>0.038140</td>\n",
              "    </tr>\n",
              "    <tr>\n",
              "      <th>Checking account</th>\n",
              "      <td>-0.051923</td>\n",
              "      <td>0.002871</td>\n",
              "      <td>0.000233</td>\n",
              "      <td>0.161084</td>\n",
              "    </tr>\n",
              "    <tr>\n",
              "      <th>Credit_amount</th>\n",
              "      <td>1.026438</td>\n",
              "      <td>0.072702</td>\n",
              "      <td>-0.016790</td>\n",
              "      <td>-0.276232</td>\n",
              "    </tr>\n",
              "    <tr>\n",
              "      <th>Duration</th>\n",
              "      <td>0.740903</td>\n",
              "      <td>-0.010424</td>\n",
              "      <td>-0.006474</td>\n",
              "      <td>-0.163216</td>\n",
              "    </tr>\n",
              "  </tbody>\n",
              "</table>\n",
              "</div>\n",
              "      <button class=\"colab-df-convert\" onclick=\"convertToInteractive('df-aaee253b-3c13-429e-ad6d-ccfed40f0bab')\"\n",
              "              title=\"Convert this dataframe to an interactive table.\"\n",
              "              style=\"display:none;\">\n",
              "        \n",
              "  <svg xmlns=\"http://www.w3.org/2000/svg\" height=\"24px\"viewBox=\"0 0 24 24\"\n",
              "       width=\"24px\">\n",
              "    <path d=\"M0 0h24v24H0V0z\" fill=\"none\"/>\n",
              "    <path d=\"M18.56 5.44l.94 2.06.94-2.06 2.06-.94-2.06-.94-.94-2.06-.94 2.06-2.06.94zm-11 1L8.5 8.5l.94-2.06 2.06-.94-2.06-.94L8.5 2.5l-.94 2.06-2.06.94zm10 10l.94 2.06.94-2.06 2.06-.94-2.06-.94-.94-2.06-.94 2.06-2.06.94z\"/><path d=\"M17.41 7.96l-1.37-1.37c-.4-.4-.92-.59-1.43-.59-.52 0-1.04.2-1.43.59L10.3 9.45l-7.72 7.72c-.78.78-.78 2.05 0 2.83L4 21.41c.39.39.9.59 1.41.59.51 0 1.02-.2 1.41-.59l7.78-7.78 2.81-2.81c.8-.78.8-2.07 0-2.86zM5.41 20L4 18.59l7.72-7.72 1.47 1.35L5.41 20z\"/>\n",
              "  </svg>\n",
              "      </button>\n",
              "      \n",
              "  <style>\n",
              "    .colab-df-container {\n",
              "      display:flex;\n",
              "      flex-wrap:wrap;\n",
              "      gap: 12px;\n",
              "    }\n",
              "\n",
              "    .colab-df-convert {\n",
              "      background-color: #E8F0FE;\n",
              "      border: none;\n",
              "      border-radius: 50%;\n",
              "      cursor: pointer;\n",
              "      display: none;\n",
              "      fill: #1967D2;\n",
              "      height: 32px;\n",
              "      padding: 0 0 0 0;\n",
              "      width: 32px;\n",
              "    }\n",
              "\n",
              "    .colab-df-convert:hover {\n",
              "      background-color: #E2EBFA;\n",
              "      box-shadow: 0px 1px 2px rgba(60, 64, 67, 0.3), 0px 1px 3px 1px rgba(60, 64, 67, 0.15);\n",
              "      fill: #174EA6;\n",
              "    }\n",
              "\n",
              "    [theme=dark] .colab-df-convert {\n",
              "      background-color: #3B4455;\n",
              "      fill: #D2E3FC;\n",
              "    }\n",
              "\n",
              "    [theme=dark] .colab-df-convert:hover {\n",
              "      background-color: #434B5C;\n",
              "      box-shadow: 0px 1px 3px 1px rgba(0, 0, 0, 0.15);\n",
              "      filter: drop-shadow(0px 1px 2px rgba(0, 0, 0, 0.3));\n",
              "      fill: #FFFFFF;\n",
              "    }\n",
              "  </style>\n",
              "\n",
              "      <script>\n",
              "        const buttonEl =\n",
              "          document.querySelector('#df-aaee253b-3c13-429e-ad6d-ccfed40f0bab button.colab-df-convert');\n",
              "        buttonEl.style.display =\n",
              "          google.colab.kernel.accessAllowed ? 'block' : 'none';\n",
              "\n",
              "        async function convertToInteractive(key) {\n",
              "          const element = document.querySelector('#df-aaee253b-3c13-429e-ad6d-ccfed40f0bab');\n",
              "          const dataTable =\n",
              "            await google.colab.kernel.invokeFunction('convertToInteractive',\n",
              "                                                     [key], {});\n",
              "          if (!dataTable) return;\n",
              "\n",
              "          const docLinkHtml = 'Like what you see? Visit the ' +\n",
              "            '<a target=\"_blank\" href=https://colab.research.google.com/notebooks/data_table.ipynb>data table notebook</a>'\n",
              "            + ' to learn more about interactive tables.';\n",
              "          element.innerHTML = '';\n",
              "          dataTable['output_type'] = 'display_data';\n",
              "          await google.colab.output.renderOutput(dataTable, element);\n",
              "          const docLink = document.createElement('div');\n",
              "          docLink.innerHTML = docLinkHtml;\n",
              "          element.appendChild(docLink);\n",
              "        }\n",
              "      </script>\n",
              "    </div>\n",
              "  </div>\n",
              "  "
            ]
          },
          "metadata": {},
          "execution_count": 301
        }
      ]
    },
    {
      "cell_type": "code",
      "source": [
        "fig, ax=plt.subplots(figsize=(10,5))\n",
        "sns.heatmap(df_F_A,cmap='YlGnBu_r')"
      ],
      "metadata": {
        "colab": {
          "base_uri": "https://localhost:8080/",
          "height": 338
        },
        "id": "g0K8_fV6hy_G",
        "outputId": "b011d7d8-8714-4101-b216-9d236d2260ee"
      },
      "execution_count": null,
      "outputs": [
        {
          "output_type": "execute_result",
          "data": {
            "text/plain": [
              "<matplotlib.axes._subplots.AxesSubplot at 0x7fbacf10be10>"
            ]
          },
          "metadata": {},
          "execution_count": 302
        },
        {
          "output_type": "display_data",
          "data": {
            "text/plain": [
              "<Figure size 720x360 with 2 Axes>"
            ],
            "image/png": "[encoded data removed]"
          },
          "metadata": {
            "needs_background": "light"
          }
        }
      ]
    },
    {
      "cell_type": "code",
      "source": [
        "#KMO test > 0.5 , it mean there is corelation each feature in dataset\n",
        "kmo_all,kmo_model=calculate_kmo(df_features)\n",
        "print('KMO test:',kmo_model)"
      ],
      "metadata": {
        "colab": {
          "base_uri": "https://localhost:8080/"
        },
        "id": "hTHi7Avld9O_",
        "outputId": "5d5a23cc-3e41-47c8-d2ff-dcab276464fc"
      },
      "execution_count": null,
      "outputs": [
        {
          "output_type": "stream",
          "name": "stdout",
          "text": [
            "KMO test: 0.5764334984822932\n"
          ]
        }
      ]
    },
    {
      "cell_type": "markdown",
      "source": [
        "**5.PCA**. We try to apply PCA"
      ],
      "metadata": {
        "id": "R3MIW_aNqw9P"
      }
    },
    {
      "cell_type": "code",
      "source": [
        "from sklearn.decomposition import PCA"
      ],
      "metadata": {
        "id": "9uefTvprtSIl"
      },
      "execution_count": null,
      "outputs": []
    },
    {
      "cell_type": "code",
      "source": [
        "pca8=PCA(n_components=8)\n",
        "pca8.fit(X)\n",
        "pcs8=pca8.transform(X)\n",
        "pcs8"
      ],
      "metadata": {
        "colab": {
          "base_uri": "https://localhost:8080/"
        },
        "id": "IDM67EzutiSi",
        "outputId": "18afef37-a66c-416c-e002-17fe9ae9e4ea"
      },
      "execution_count": null,
      "outputs": [
        {
          "output_type": "execute_result",
          "data": {
            "text/plain": [
              "array([[-0.94044801,  2.77407262, -0.5122498 , ..., -0.41209351,\n",
              "         1.36683323,  0.08894612],\n",
              "       [ 1.54360263, -2.56678617,  0.61817468, ...,  0.49650681,\n",
              "         0.8805082 , -0.80127386],\n",
              "       [-1.14469317,  1.44771209, -0.15995327, ...,  1.09360508,\n",
              "         0.40282155,  0.25120655],\n",
              "       ...,\n",
              "       [-0.89589905,  0.79688978, -0.2182734 , ..., -0.39986506,\n",
              "        -0.12131109, -0.15254588],\n",
              "       [ 1.64685654, -0.35463158, -1.151708  , ...,  0.57215653,\n",
              "        -2.18172667, -1.69854321],\n",
              "       [ 1.3202856 , -0.77902012,  1.90591517, ...,  0.40740374,\n",
              "        -0.2590064 , -0.94802951]])"
            ]
          },
          "metadata": {},
          "execution_count": 313
        }
      ]
    },
    {
      "cell_type": "code",
      "source": [
        "Xdfpca8=pd.DataFrame(data=pcs8,columns=['pc1','pc2','pc3','pc4','pc5','pc6','pc7','pc8'])\n",
        "Xdfpca8['Purpose']=df_target\n",
        "Xdfpca8.head(10)\n"
      ],
      "metadata": {
        "colab": {
          "base_uri": "https://localhost:8080/",
          "height": 363
        },
        "id": "f9UdnndyuiRN",
        "outputId": "3b091e0f-b6fe-4415-fbad-5ce034ad61b8"
      },
      "execution_count": null,
      "outputs": [
        {
          "output_type": "execute_result",
          "data": {
            "text/plain": [
              "        pc1       pc2       pc3       pc4       pc5       pc6       pc7  \\\n",
              "0 -0.940448  2.774073 -0.512250 -0.375160 -0.405452 -0.412094  1.366833   \n",
              "1  1.543603 -2.566786  0.618175  0.141798 -0.383052  0.496507  0.880508   \n",
              "2 -1.144693  1.447712 -0.159953 -0.582284 -0.525814  1.093605  0.402822   \n",
              "3  2.960270  0.905101 -1.148068  0.823224 -0.136113  1.033229 -0.721546   \n",
              "4  1.460112  1.816204 -1.552759  1.050751 -0.300334  0.331051 -0.607740   \n",
              "5  2.268877  0.276065 -1.005827  0.823682 -0.368138  2.249665 -1.345509   \n",
              "6 -0.047418  1.705611  0.875551  0.150985  1.854990  0.226942  0.695920   \n",
              "7  2.576533 -0.092568  0.461410  0.417141 -0.598750 -1.009393 -0.364943   \n",
              "8 -1.274981  2.475144  1.255627  1.019315  2.499472  1.315545  0.828492   \n",
              "9  1.471838 -0.581468  1.136138 -0.620884 -0.542248 -1.348976 -0.077943   \n",
              "\n",
              "        pc8              Purpose  \n",
              "0  0.088946             radio/TV  \n",
              "1 -0.801274             radio/TV  \n",
              "2  0.251207            education  \n",
              "3 -0.127055  furniture/equipment  \n",
              "4  0.062822                  car  \n",
              "5  0.721778            education  \n",
              "6 -0.310129  furniture/equipment  \n",
              "7 -0.104803                  car  \n",
              "8  0.563790             radio/TV  \n",
              "9 -0.134037                  car  "
            ],
            "text/html": [
              "\n",
              "  <div id=\"df-e56517ec-1d63-4c18-aedb-9eca78472286\">\n",
              "    <div class=\"colab-df-container\">\n",
              "      <div>\n",
              "<style scoped>\n",
              "    .dataframe tbody tr th:only-of-type {\n",
              "        vertical-align: middle;\n",
              "    }\n",
              "\n",
              "    .dataframe tbody tr th {\n",
              "        vertical-align: top;\n",
              "    }\n",
              "\n",
              "    .dataframe thead th {\n",
              "        text-align: right;\n",
              "    }\n",
              "</style>\n",
              "<table border=\"1\" class=\"dataframe\">\n",
              "  <thead>\n",
              "    <tr style=\"text-align: right;\">\n",
              "      <th></th>\n",
              "      <th>pc1</th>\n",
              "      <th>pc2</th>\n",
              "      <th>pc3</th>\n",
              "      <th>pc4</th>\n",
              "      <th>pc5</th>\n",
              "      <th>pc6</th>\n",
              "      <th>pc7</th>\n",
              "      <th>pc8</th>\n",
              "      <th>Purpose</th>\n",
              "    </tr>\n",
              "  </thead>\n",
              "  <tbody>\n",
              "    <tr>\n",
              "      <th>0</th>\n",
              "      <td>-0.940448</td>\n",
              "      <td>2.774073</td>\n",
              "      <td>-0.512250</td>\n",
              "      <td>-0.375160</td>\n",
              "      <td>-0.405452</td>\n",
              "      <td>-0.412094</td>\n",
              "      <td>1.366833</td>\n",
              "      <td>0.088946</td>\n",
              "      <td>radio/TV</td>\n",
              "    </tr>\n",
              "    <tr>\n",
              "      <th>1</th>\n",
              "      <td>1.543603</td>\n",
              "      <td>-2.566786</td>\n",
              "      <td>0.618175</td>\n",
              "      <td>0.141798</td>\n",
              "      <td>-0.383052</td>\n",
              "      <td>0.496507</td>\n",
              "      <td>0.880508</td>\n",
              "      <td>-0.801274</td>\n",
              "      <td>radio/TV</td>\n",
              "    </tr>\n",
              "    <tr>\n",
              "      <th>2</th>\n",
              "      <td>-1.144693</td>\n",
              "      <td>1.447712</td>\n",
              "      <td>-0.159953</td>\n",
              "      <td>-0.582284</td>\n",
              "      <td>-0.525814</td>\n",
              "      <td>1.093605</td>\n",
              "      <td>0.402822</td>\n",
              "      <td>0.251207</td>\n",
              "      <td>education</td>\n",
              "    </tr>\n",
              "    <tr>\n",
              "      <th>3</th>\n",
              "      <td>2.960270</td>\n",
              "      <td>0.905101</td>\n",
              "      <td>-1.148068</td>\n",
              "      <td>0.823224</td>\n",
              "      <td>-0.136113</td>\n",
              "      <td>1.033229</td>\n",
              "      <td>-0.721546</td>\n",
              "      <td>-0.127055</td>\n",
              "      <td>furniture/equipment</td>\n",
              "    </tr>\n",
              "    <tr>\n",
              "      <th>4</th>\n",
              "      <td>1.460112</td>\n",
              "      <td>1.816204</td>\n",
              "      <td>-1.552759</td>\n",
              "      <td>1.050751</td>\n",
              "      <td>-0.300334</td>\n",
              "      <td>0.331051</td>\n",
              "      <td>-0.607740</td>\n",
              "      <td>0.062822</td>\n",
              "      <td>car</td>\n",
              "    </tr>\n",
              "    <tr>\n",
              "      <th>5</th>\n",
              "      <td>2.268877</td>\n",
              "      <td>0.276065</td>\n",
              "      <td>-1.005827</td>\n",
              "      <td>0.823682</td>\n",
              "      <td>-0.368138</td>\n",
              "      <td>2.249665</td>\n",
              "      <td>-1.345509</td>\n",
              "      <td>0.721778</td>\n",
              "      <td>education</td>\n",
              "    </tr>\n",
              "    <tr>\n",
              "      <th>6</th>\n",
              "      <td>-0.047418</td>\n",
              "      <td>1.705611</td>\n",
              "      <td>0.875551</td>\n",
              "      <td>0.150985</td>\n",
              "      <td>1.854990</td>\n",
              "      <td>0.226942</td>\n",
              "      <td>0.695920</td>\n",
              "      <td>-0.310129</td>\n",
              "      <td>furniture/equipment</td>\n",
              "    </tr>\n",
              "    <tr>\n",
              "      <th>7</th>\n",
              "      <td>2.576533</td>\n",
              "      <td>-0.092568</td>\n",
              "      <td>0.461410</td>\n",
              "      <td>0.417141</td>\n",
              "      <td>-0.598750</td>\n",
              "      <td>-1.009393</td>\n",
              "      <td>-0.364943</td>\n",
              "      <td>-0.104803</td>\n",
              "      <td>car</td>\n",
              "    </tr>\n",
              "    <tr>\n",
              "      <th>8</th>\n",
              "      <td>-1.274981</td>\n",
              "      <td>2.475144</td>\n",
              "      <td>1.255627</td>\n",
              "      <td>1.019315</td>\n",
              "      <td>2.499472</td>\n",
              "      <td>1.315545</td>\n",
              "      <td>0.828492</td>\n",
              "      <td>0.563790</td>\n",
              "      <td>radio/TV</td>\n",
              "    </tr>\n",
              "    <tr>\n",
              "      <th>9</th>\n",
              "      <td>1.471838</td>\n",
              "      <td>-0.581468</td>\n",
              "      <td>1.136138</td>\n",
              "      <td>-0.620884</td>\n",
              "      <td>-0.542248</td>\n",
              "      <td>-1.348976</td>\n",
              "      <td>-0.077943</td>\n",
              "      <td>-0.134037</td>\n",
              "      <td>car</td>\n",
              "    </tr>\n",
              "  </tbody>\n",
              "</table>\n",
              "</div>\n",
              "      <button class=\"colab-df-convert\" onclick=\"convertToInteractive('df-e56517ec-1d63-4c18-aedb-9eca78472286')\"\n",
              "              title=\"Convert this dataframe to an interactive table.\"\n",
              "              style=\"display:none;\">\n",
              "        \n",
              "  <svg xmlns=\"http://www.w3.org/2000/svg\" height=\"24px\"viewBox=\"0 0 24 24\"\n",
              "       width=\"24px\">\n",
              "    <path d=\"M0 0h24v24H0V0z\" fill=\"none\"/>\n",
              "    <path d=\"M18.56 5.44l.94 2.06.94-2.06 2.06-.94-2.06-.94-.94-2.06-.94 2.06-2.06.94zm-11 1L8.5 8.5l.94-2.06 2.06-.94-2.06-.94L8.5 2.5l-.94 2.06-2.06.94zm10 10l.94 2.06.94-2.06 2.06-.94-2.06-.94-.94-2.06-.94 2.06-2.06.94z\"/><path d=\"M17.41 7.96l-1.37-1.37c-.4-.4-.92-.59-1.43-.59-.52 0-1.04.2-1.43.59L10.3 9.45l-7.72 7.72c-.78.78-.78 2.05 0 2.83L4 21.41c.39.39.9.59 1.41.59.51 0 1.02-.2 1.41-.59l7.78-7.78 2.81-2.81c.8-.78.8-2.07 0-2.86zM5.41 20L4 18.59l7.72-7.72 1.47 1.35L5.41 20z\"/>\n",
              "  </svg>\n",
              "      </button>\n",
              "      \n",
              "  <style>\n",
              "    .colab-df-container {\n",
              "      display:flex;\n",
              "      flex-wrap:wrap;\n",
              "      gap: 12px;\n",
              "    }\n",
              "\n",
              "    .colab-df-convert {\n",
              "      background-color: #E8F0FE;\n",
              "      border: none;\n",
              "      border-radius: 50%;\n",
              "      cursor: pointer;\n",
              "      display: none;\n",
              "      fill: #1967D2;\n",
              "      height: 32px;\n",
              "      padding: 0 0 0 0;\n",
              "      width: 32px;\n",
              "    }\n",
              "\n",
              "    .colab-df-convert:hover {\n",
              "      background-color: #E2EBFA;\n",
              "      box-shadow: 0px 1px 2px rgba(60, 64, 67, 0.3), 0px 1px 3px 1px rgba(60, 64, 67, 0.15);\n",
              "      fill: #174EA6;\n",
              "    }\n",
              "\n",
              "    [theme=dark] .colab-df-convert {\n",
              "      background-color: #3B4455;\n",
              "      fill: #D2E3FC;\n",
              "    }\n",
              "\n",
              "    [theme=dark] .colab-df-convert:hover {\n",
              "      background-color: #434B5C;\n",
              "      box-shadow: 0px 1px 3px 1px rgba(0, 0, 0, 0.15);\n",
              "      filter: drop-shadow(0px 1px 2px rgba(0, 0, 0, 0.3));\n",
              "      fill: #FFFFFF;\n",
              "    }\n",
              "  </style>\n",
              "\n",
              "      <script>\n",
              "        const buttonEl =\n",
              "          document.querySelector('#df-e56517ec-1d63-4c18-aedb-9eca78472286 button.colab-df-convert');\n",
              "        buttonEl.style.display =\n",
              "          google.colab.kernel.accessAllowed ? 'block' : 'none';\n",
              "\n",
              "        async function convertToInteractive(key) {\n",
              "          const element = document.querySelector('#df-e56517ec-1d63-4c18-aedb-9eca78472286');\n",
              "          const dataTable =\n",
              "            await google.colab.kernel.invokeFunction('convertToInteractive',\n",
              "                                                     [key], {});\n",
              "          if (!dataTable) return;\n",
              "\n",
              "          const docLinkHtml = 'Like what you see? Visit the ' +\n",
              "            '<a target=\"_blank\" href=https://colab.research.google.com/notebooks/data_table.ipynb>data table notebook</a>'\n",
              "            + ' to learn more about interactive tables.';\n",
              "          element.innerHTML = '';\n",
              "          dataTable['output_type'] = 'display_data';\n",
              "          await google.colab.output.renderOutput(dataTable, element);\n",
              "          const docLink = document.createElement('div');\n",
              "          docLink.innerHTML = docLinkHtml;\n",
              "          element.appendChild(docLink);\n",
              "        }\n",
              "      </script>\n",
              "    </div>\n",
              "  </div>\n",
              "  "
            ]
          },
          "metadata": {},
          "execution_count": 314
        }
      ]
    },
    {
      "cell_type": "code",
      "source": [
        "print('Explained variance:', pca8.explained_variance_)\n",
        "print('Explained variance ration:', pca8.explained_variance_ratio_)"
      ],
      "metadata": {
        "colab": {
          "base_uri": "https://localhost:8080/"
        },
        "id": "qruSSCkmwINW",
        "outputId": "20d4198d-6af6-4885-9993-60202e27e2d4"
      },
      "execution_count": null,
      "outputs": [
        {
          "output_type": "stream",
          "name": "stdout",
          "text": [
            "Explained variance: [1.88703819 1.16040847 1.0177935  1.01152721 0.98148888 0.83634136\n",
            " 0.74804508 0.3653653 ]\n",
            "Explained variance ration: [0.23564389 0.14490601 0.12709696 0.12631446 0.12256342 0.10443813\n",
            " 0.09341213 0.04562499]\n"
          ]
        }
      ]
    },
    {
      "cell_type": "code",
      "source": [
        "pca5=PCA(n_components=5)\n",
        "pca5.fit(X)\n",
        "pcs5=pca5.transform(X)\n",
        "dfpca5=pd.DataFrame(data=pcs5,columns=['pc1','pc2','pc3','pc4','pc5'])\n",
        "dfpca5['Purpose']=df_target\n",
        "dfpca5.head(10)"
      ],
      "metadata": {
        "colab": {
          "base_uri": "https://localhost:8080/",
          "height": 363
        },
        "id": "lw7UVYDl6IdF",
        "outputId": "5c4e57f2-7ab5-4868-f459-3e3957f72b2f"
      },
      "execution_count": null,
      "outputs": [
        {
          "output_type": "execute_result",
          "data": {
            "text/plain": [
              "        pc1       pc2       pc3       pc4       pc5              Purpose\n",
              "0 -0.940448  2.774073 -0.512250 -0.375160 -0.405452             radio/TV\n",
              "1  1.543603 -2.566786  0.618175  0.141798 -0.383052             radio/TV\n",
              "2 -1.144693  1.447712 -0.159953 -0.582284 -0.525814            education\n",
              "3  2.960270  0.905101 -1.148068  0.823224 -0.136113  furniture/equipment\n",
              "4  1.460112  1.816204 -1.552759  1.050751 -0.300334                  car\n",
              "5  2.268877  0.276065 -1.005827  0.823682 -0.368138            education\n",
              "6 -0.047418  1.705611  0.875551  0.150985  1.854990  furniture/equipment\n",
              "7  2.576533 -0.092568  0.461410  0.417141 -0.598750                  car\n",
              "8 -1.274981  2.475144  1.255627  1.019315  2.499472             radio/TV\n",
              "9  1.471838 -0.581468  1.136138 -0.620884 -0.542248                  car"
            ],
            "text/html": [
              "\n",
              "  <div id=\"df-9d66d5a9-4872-40a8-97be-822691f343b9\">\n",
              "    <div class=\"colab-df-container\">\n",
              "      <div>\n",
              "<style scoped>\n",
              "    .dataframe tbody tr th:only-of-type {\n",
              "        vertical-align: middle;\n",
              "    }\n",
              "\n",
              "    .dataframe tbody tr th {\n",
              "        vertical-align: top;\n",
              "    }\n",
              "\n",
              "    .dataframe thead th {\n",
              "        text-align: right;\n",
              "    }\n",
              "</style>\n",
              "<table border=\"1\" class=\"dataframe\">\n",
              "  <thead>\n",
              "    <tr style=\"text-align: right;\">\n",
              "      <th></th>\n",
              "      <th>pc1</th>\n",
              "      <th>pc2</th>\n",
              "      <th>pc3</th>\n",
              "      <th>pc4</th>\n",
              "      <th>pc5</th>\n",
              "      <th>Purpose</th>\n",
              "    </tr>\n",
              "  </thead>\n",
              "  <tbody>\n",
              "    <tr>\n",
              "      <th>0</th>\n",
              "      <td>-0.940448</td>\n",
              "      <td>2.774073</td>\n",
              "      <td>-0.512250</td>\n",
              "      <td>-0.375160</td>\n",
              "      <td>-0.405452</td>\n",
              "      <td>radio/TV</td>\n",
              "    </tr>\n",
              "    <tr>\n",
              "      <th>1</th>\n",
              "      <td>1.543603</td>\n",
              "      <td>-2.566786</td>\n",
              "      <td>0.618175</td>\n",
              "      <td>0.141798</td>\n",
              "      <td>-0.383052</td>\n",
              "      <td>radio/TV</td>\n",
              "    </tr>\n",
              "    <tr>\n",
              "      <th>2</th>\n",
              "      <td>-1.144693</td>\n",
              "      <td>1.447712</td>\n",
              "      <td>-0.159953</td>\n",
              "      <td>-0.582284</td>\n",
              "      <td>-0.525814</td>\n",
              "      <td>education</td>\n",
              "    </tr>\n",
              "    <tr>\n",
              "      <th>3</th>\n",
              "      <td>2.960270</td>\n",
              "      <td>0.905101</td>\n",
              "      <td>-1.148068</td>\n",
              "      <td>0.823224</td>\n",
              "      <td>-0.136113</td>\n",
              "      <td>furniture/equipment</td>\n",
              "    </tr>\n",
              "    <tr>\n",
              "      <th>4</th>\n",
              "      <td>1.460112</td>\n",
              "      <td>1.816204</td>\n",
              "      <td>-1.552759</td>\n",
              "      <td>1.050751</td>\n",
              "      <td>-0.300334</td>\n",
              "      <td>car</td>\n",
              "    </tr>\n",
              "    <tr>\n",
              "      <th>5</th>\n",
              "      <td>2.268877</td>\n",
              "      <td>0.276065</td>\n",
              "      <td>-1.005827</td>\n",
              "      <td>0.823682</td>\n",
              "      <td>-0.368138</td>\n",
              "      <td>education</td>\n",
              "    </tr>\n",
              "    <tr>\n",
              "      <th>6</th>\n",
              "      <td>-0.047418</td>\n",
              "      <td>1.705611</td>\n",
              "      <td>0.875551</td>\n",
              "      <td>0.150985</td>\n",
              "      <td>1.854990</td>\n",
              "      <td>furniture/equipment</td>\n",
              "    </tr>\n",
              "    <tr>\n",
              "      <th>7</th>\n",
              "      <td>2.576533</td>\n",
              "      <td>-0.092568</td>\n",
              "      <td>0.461410</td>\n",
              "      <td>0.417141</td>\n",
              "      <td>-0.598750</td>\n",
              "      <td>car</td>\n",
              "    </tr>\n",
              "    <tr>\n",
              "      <th>8</th>\n",
              "      <td>-1.274981</td>\n",
              "      <td>2.475144</td>\n",
              "      <td>1.255627</td>\n",
              "      <td>1.019315</td>\n",
              "      <td>2.499472</td>\n",
              "      <td>radio/TV</td>\n",
              "    </tr>\n",
              "    <tr>\n",
              "      <th>9</th>\n",
              "      <td>1.471838</td>\n",
              "      <td>-0.581468</td>\n",
              "      <td>1.136138</td>\n",
              "      <td>-0.620884</td>\n",
              "      <td>-0.542248</td>\n",
              "      <td>car</td>\n",
              "    </tr>\n",
              "  </tbody>\n",
              "</table>\n",
              "</div>\n",
              "      <button class=\"colab-df-convert\" onclick=\"convertToInteractive('df-9d66d5a9-4872-40a8-97be-822691f343b9')\"\n",
              "              title=\"Convert this dataframe to an interactive table.\"\n",
              "              style=\"display:none;\">\n",
              "        \n",
              "  <svg xmlns=\"http://www.w3.org/2000/svg\" height=\"24px\"viewBox=\"0 0 24 24\"\n",
              "       width=\"24px\">\n",
              "    <path d=\"M0 0h24v24H0V0z\" fill=\"none\"/>\n",
              "    <path d=\"M18.56 5.44l.94 2.06.94-2.06 2.06-.94-2.06-.94-.94-2.06-.94 2.06-2.06.94zm-11 1L8.5 8.5l.94-2.06 2.06-.94-2.06-.94L8.5 2.5l-.94 2.06-2.06.94zm10 10l.94 2.06.94-2.06 2.06-.94-2.06-.94-.94-2.06-.94 2.06-2.06.94z\"/><path d=\"M17.41 7.96l-1.37-1.37c-.4-.4-.92-.59-1.43-.59-.52 0-1.04.2-1.43.59L10.3 9.45l-7.72 7.72c-.78.78-.78 2.05 0 2.83L4 21.41c.39.39.9.59 1.41.59.51 0 1.02-.2 1.41-.59l7.78-7.78 2.81-2.81c.8-.78.8-2.07 0-2.86zM5.41 20L4 18.59l7.72-7.72 1.47 1.35L5.41 20z\"/>\n",
              "  </svg>\n",
              "      </button>\n",
              "      \n",
              "  <style>\n",
              "    .colab-df-container {\n",
              "      display:flex;\n",
              "      flex-wrap:wrap;\n",
              "      gap: 12px;\n",
              "    }\n",
              "\n",
              "    .colab-df-convert {\n",
              "      background-color: #E8F0FE;\n",
              "      border: none;\n",
              "      border-radius: 50%;\n",
              "      cursor: pointer;\n",
              "      display: none;\n",
              "      fill: #1967D2;\n",
              "      height: 32px;\n",
              "      padding: 0 0 0 0;\n",
              "      width: 32px;\n",
              "    }\n",
              "\n",
              "    .colab-df-convert:hover {\n",
              "      background-color: #E2EBFA;\n",
              "      box-shadow: 0px 1px 2px rgba(60, 64, 67, 0.3), 0px 1px 3px 1px rgba(60, 64, 67, 0.15);\n",
              "      fill: #174EA6;\n",
              "    }\n",
              "\n",
              "    [theme=dark] .colab-df-convert {\n",
              "      background-color: #3B4455;\n",
              "      fill: #D2E3FC;\n",
              "    }\n",
              "\n",
              "    [theme=dark] .colab-df-convert:hover {\n",
              "      background-color: #434B5C;\n",
              "      box-shadow: 0px 1px 3px 1px rgba(0, 0, 0, 0.15);\n",
              "      filter: drop-shadow(0px 1px 2px rgba(0, 0, 0, 0.3));\n",
              "      fill: #FFFFFF;\n",
              "    }\n",
              "  </style>\n",
              "\n",
              "      <script>\n",
              "        const buttonEl =\n",
              "          document.querySelector('#df-9d66d5a9-4872-40a8-97be-822691f343b9 button.colab-df-convert');\n",
              "        buttonEl.style.display =\n",
              "          google.colab.kernel.accessAllowed ? 'block' : 'none';\n",
              "\n",
              "        async function convertToInteractive(key) {\n",
              "          const element = document.querySelector('#df-9d66d5a9-4872-40a8-97be-822691f343b9');\n",
              "          const dataTable =\n",
              "            await google.colab.kernel.invokeFunction('convertToInteractive',\n",
              "                                                     [key], {});\n",
              "          if (!dataTable) return;\n",
              "\n",
              "          const docLinkHtml = 'Like what you see? Visit the ' +\n",
              "            '<a target=\"_blank\" href=https://colab.research.google.com/notebooks/data_table.ipynb>data table notebook</a>'\n",
              "            + ' to learn more about interactive tables.';\n",
              "          element.innerHTML = '';\n",
              "          dataTable['output_type'] = 'display_data';\n",
              "          await google.colab.output.renderOutput(dataTable, element);\n",
              "          const docLink = document.createElement('div');\n",
              "          docLink.innerHTML = docLinkHtml;\n",
              "          element.appendChild(docLink);\n",
              "        }\n",
              "      </script>\n",
              "    </div>\n",
              "  </div>\n",
              "  "
            ]
          },
          "metadata": {},
          "execution_count": 316
        }
      ]
    },
    {
      "cell_type": "code",
      "source": [
        "print('Explained variance:', pca5.explained_variance_)\n",
        "print('Explained variance ration:', pca5.explained_variance_ratio_)"
      ],
      "metadata": {
        "colab": {
          "base_uri": "https://localhost:8080/"
        },
        "id": "LXt5Gar83hZz",
        "outputId": "3c5e9f22-7e72-4ded-99b0-e84bed5f4696"
      },
      "execution_count": null,
      "outputs": [
        {
          "output_type": "stream",
          "name": "stdout",
          "text": [
            "Explained variance: [1.88703819 1.16040847 1.0177935  1.01152721 0.98148888]\n",
            "Explained variance ration: [0.23564389 0.14490601 0.12709696 0.12631446 0.12256342]\n"
          ]
        }
      ]
    },
    {
      "cell_type": "markdown",
      "source": [
        "**6. TRAINING TEST SPLIT**"
      ],
      "metadata": {
        "id": "9ABrV6nEYeAj"
      }
    },
    {
      "cell_type": "code",
      "source": [
        "from sklearn.model_selection import train_test_split"
      ],
      "metadata": {
        "id": "_D0E3bP-1auq"
      },
      "execution_count": null,
      "outputs": []
    },
    {
      "cell_type": "code",
      "source": [
        "#For ordinal encoding\n",
        "X_train_ord, X_test_ord, y_train_ord, y_test_ord = train_test_split(X, y, test_size=0.2, random_state=0)\n",
        "print ('Train set:', X_train_ord.shape, y_train_ord.shape)\n",
        "print ('Test set:', X_test_ord.shape, y_test_ord.shape)"
      ],
      "metadata": {
        "colab": {
          "base_uri": "https://localhost:8080/"
        },
        "id": "QHr_UCKh7UqV",
        "outputId": "6393e0a2-c90f-4e1d-9111-b46b2fa94a90"
      },
      "execution_count": null,
      "outputs": [
        {
          "output_type": "stream",
          "name": "stdout",
          "text": [
            "Train set: (800, 8) (800,)\n",
            "Test set: (200, 8) (200,)\n"
          ]
        }
      ]
    },
    {
      "cell_type": "code",
      "source": [
        "X_pca8=Xdfpca8.drop('Purpose', axis=1)  #For PCA 8\n",
        "Y_pca8=Xdfpca8['Purpose']\n",
        "X_train_pca8, X_test_pca8, y_train_pca8, y_test_pca8 = train_test_split(X_pca8, Y_pca8, test_size=0.2, random_state=0)\n",
        "print ('Train set:', X_train_pca8.shape, y_train_pca8.shape)\n",
        "print ('Test set:', X_test_pca8.shape, y_test_pca8.shape)"
      ],
      "metadata": {
        "colab": {
          "base_uri": "https://localhost:8080/"
        },
        "id": "LE40RpCaNFjm",
        "outputId": "882c3ea8-0848-41b4-9118-abac1c116596"
      },
      "execution_count": null,
      "outputs": [
        {
          "output_type": "stream",
          "name": "stdout",
          "text": [
            "Train set: (800, 8) (800,)\n",
            "Test set: (200, 8) (200,)\n"
          ]
        }
      ]
    },
    {
      "cell_type": "code",
      "source": [
        "X_pca5=dfpca5.drop('Purpose', axis=1)   #For PCA 5\n",
        "Y_pca5=dfpca5['Purpose']\n",
        "X_train_pca5,X_test_pca5,Y_train_pca5,Y_test_pca5=train_test_split(\n",
        "                                                                    X_pca5,Y_pca5, test_size=0.2,\n",
        "                                                                   random_state=0)"
      ],
      "metadata": {
        "id": "_l1NS_NsAdIE"
      },
      "execution_count": null,
      "outputs": []
    },
    {
      "cell_type": "code",
      "source": [
        "print ('Train set:', X_train_pca5.shape, Y_train_pca5.shape)\n",
        "print ('Test set:', X_test_pca5.shape, Y_test_pca5.shape)"
      ],
      "metadata": {
        "colab": {
          "base_uri": "https://localhost:8080/"
        },
        "id": "3dPv9XodCTV2",
        "outputId": "d4ddddd2-1d1c-4ace-9b00-86bbae67960f"
      },
      "execution_count": null,
      "outputs": [
        {
          "output_type": "stream",
          "name": "stdout",
          "text": [
            "Train set: (800, 5) (800,)\n",
            "Test set: (200, 5) (200,)\n"
          ]
        }
      ]
    },
    {
      "cell_type": "markdown",
      "source": [
        "**7.MODELING KNN**"
      ],
      "metadata": {
        "id": "DA0Dk01yX2tO"
      }
    },
    {
      "cell_type": "code",
      "source": [
        "from sklearn.neighbors import KNeighborsClassifier"
      ],
      "metadata": {
        "id": "ppQ0FgO2MjTe"
      },
      "execution_count": null,
      "outputs": []
    },
    {
      "cell_type": "code",
      "source": [
        "k = 5   #For ordial\n",
        "model_knn_ord = KNeighborsClassifier(n_neighbors = k).fit(X_train_ord, y_train_ord)\n",
        "model_knn_ord"
      ],
      "metadata": {
        "colab": {
          "base_uri": "https://localhost:8080/"
        },
        "id": "FFTXFW--DZ0B",
        "outputId": "d66d8935-5b87-4379-d190-bf34082f3304"
      },
      "execution_count": null,
      "outputs": [
        {
          "output_type": "execute_result",
          "data": {
            "text/plain": [
              "KNeighborsClassifier()"
            ]
          },
          "metadata": {},
          "execution_count": 324
        }
      ]
    },
    {
      "cell_type": "code",
      "source": [
        "k = 5   #For PCA8\n",
        "model_knn_pca8 = KNeighborsClassifier(n_neighbors = k).fit(X_train_pca8, y_train_pca8)\n",
        "model_knn_pca8"
      ],
      "metadata": {
        "colab": {
          "base_uri": "https://localhost:8080/"
        },
        "id": "6_MZ8R6cMvUX",
        "outputId": "605f411d-a2f2-4766-f219-32adf869f3b9"
      },
      "execution_count": null,
      "outputs": [
        {
          "output_type": "execute_result",
          "data": {
            "text/plain": [
              "KNeighborsClassifier()"
            ]
          },
          "metadata": {},
          "execution_count": 325
        }
      ]
    },
    {
      "cell_type": "code",
      "source": [
        "k = 5   #For PCA5\n",
        "model_knn_pca5 = KNeighborsClassifier(n_neighbors = k).fit(X_train_pca5, Y_train_pca5)\n",
        "model_knn_pca5"
      ],
      "metadata": {
        "colab": {
          "base_uri": "https://localhost:8080/"
        },
        "id": "LwtvL7rCDEqc",
        "outputId": "ab6568f0-56ca-4946-f606-2172b05566b7"
      },
      "execution_count": null,
      "outputs": [
        {
          "output_type": "execute_result",
          "data": {
            "text/plain": [
              "KNeighborsClassifier()"
            ]
          },
          "metadata": {},
          "execution_count": 326
        }
      ]
    },
    {
      "cell_type": "markdown",
      "source": [
        "**8.TESTING**"
      ],
      "metadata": {
        "id": "R916TWtZrRy8"
      }
    },
    {
      "cell_type": "code",
      "source": [
        "y_pred_ord = model_knn_ord.predict(X_test_ord)\n",
        "y_pred_ord[0:5]"
      ],
      "metadata": {
        "colab": {
          "base_uri": "https://localhost:8080/"
        },
        "id": "eu29A0ZkD6Lx",
        "outputId": "09734151-e708-487d-b8f5-61896a9a1549"
      },
      "execution_count": null,
      "outputs": [
        {
          "output_type": "execute_result",
          "data": {
            "text/plain": [
              "array(['car', 'car', 'furniture/equipment', 'business', 'car'],\n",
              "      dtype=object)"
            ]
          },
          "metadata": {},
          "execution_count": 327
        }
      ]
    },
    {
      "cell_type": "code",
      "source": [
        "y_pred_pca8 = model_knn_pca8.predict(X_test_pca8)\n",
        "y_pred_pca8[0:5]\n"
      ],
      "metadata": {
        "colab": {
          "base_uri": "https://localhost:8080/"
        },
        "id": "PcJ763PsNaBG",
        "outputId": "076fbc84-2085-4b4b-d903-9cc02d75a710"
      },
      "execution_count": null,
      "outputs": [
        {
          "output_type": "execute_result",
          "data": {
            "text/plain": [
              "array(['car', 'car', 'furniture/equipment', 'business', 'car'],\n",
              "      dtype=object)"
            ]
          },
          "metadata": {},
          "execution_count": 328
        }
      ]
    },
    {
      "cell_type": "code",
      "source": [
        "Y_pred_pca5 = model_knn_pca5.predict(X_test_pca5) #For PCA 5\n",
        "Y_pred_pca5[0:5]"
      ],
      "metadata": {
        "colab": {
          "base_uri": "https://localhost:8080/"
        },
        "id": "Edy2ehwGDUAl",
        "outputId": "87861193-5e43-420f-ef66-4e3d1c467cf2"
      },
      "execution_count": null,
      "outputs": [
        {
          "output_type": "execute_result",
          "data": {
            "text/plain": [
              "array(['business', 'car', 'furniture/equipment', 'radio/TV', 'business'],\n",
              "      dtype=object)"
            ]
          },
          "metadata": {},
          "execution_count": 329
        }
      ]
    },
    {
      "cell_type": "markdown",
      "source": [
        "**9.EVALUTION**"
      ],
      "metadata": {
        "id": "kP18kW5JZW54"
      }
    },
    {
      "cell_type": "code",
      "source": [
        "from sklearn.metrics import accuracy_score\n",
        "print('Akurasi Train set: ', accuracy_score(y_train_ord, model_knn_ord.predict(X_train_ord)))\n",
        "print('Akurasi Test set: ', accuracy_score(y_test_ord, y_pred_ord))"
      ],
      "metadata": {
        "colab": {
          "base_uri": "https://localhost:8080/"
        },
        "id": "UMznjsDCEjug",
        "outputId": "b91038a7-695d-49a4-b1fd-41a1385891f4"
      },
      "execution_count": null,
      "outputs": [
        {
          "output_type": "stream",
          "name": "stdout",
          "text": [
            "Akurasi Train set:  0.51125\n",
            "Akurasi Test set:  0.355\n"
          ]
        }
      ]
    },
    {
      "cell_type": "code",
      "source": [
        "from sklearn.metrics import accuracy_score\n",
        "print('Akurasi Train set: ', accuracy_score(y_train_pca8, model_knn_pca8.predict(X_train_pca8)))\n",
        "print('Akurasi Test set: ', accuracy_score(y_test_pca8, y_pred_pca8))"
      ],
      "metadata": {
        "colab": {
          "base_uri": "https://localhost:8080/"
        },
        "id": "6EK7c43wMH5G",
        "outputId": "a25dd50d-3dcb-4a88-cc0e-350bf0a68e0f"
      },
      "execution_count": null,
      "outputs": [
        {
          "output_type": "stream",
          "name": "stdout",
          "text": [
            "Akurasi Train set:  0.51125\n",
            "Akurasi Test set:  0.355\n"
          ]
        }
      ]
    },
    {
      "cell_type": "code",
      "source": [
        "from sklearn.metrics import accuracy_score\n",
        "print('Akurasi Train set: ', accuracy_score(Y_train_pca5, model_knn_pca5.predict(X_train_pca5)))\n",
        "print('Akurasi Test set: ', accuracy_score(Y_test_pca5, Y_pred_pca5))"
      ],
      "metadata": {
        "colab": {
          "base_uri": "https://localhost:8080/"
        },
        "id": "bxce_m0OD0Jw",
        "outputId": "d5d8bc77-9885-4a05-cebe-6ac2fb0c569f"
      },
      "execution_count": null,
      "outputs": [
        {
          "output_type": "stream",
          "name": "stdout",
          "text": [
            "Akurasi Train set:  0.515\n",
            "Akurasi Test set:  0.37\n"
          ]
        }
      ]
    },
    {
      "cell_type": "code",
      "source": [
        "Ks = 15\n",
        "mean_acc_pca8 = np.zeros((Ks-1))\n",
        "for n in range(1, Ks):\n",
        " model_knn_pca8 = KNeighborsClassifier(n_neighbors = n).fit(X_train_pca8, y_train_pca8)\n",
        " y_pred_pca8 = model_knn_pca8.predict(X_test_pca8)\n",
        " mean_acc_pca8[n-1] = accuracy_score(y_test_pca8, y_pred_pca8)\n",
        "mean_acc_pca8"
      ],
      "metadata": {
        "colab": {
          "base_uri": "https://localhost:8080/"
        },
        "id": "tmOalcaQNqPY",
        "outputId": "f370a207-9989-4657-be66-a2fa914858e3"
      },
      "execution_count": null,
      "outputs": [
        {
          "output_type": "execute_result",
          "data": {
            "text/plain": [
              "array([0.36 , 0.32 , 0.335, 0.345, 0.355, 0.375, 0.375, 0.4  , 0.415,\n",
              "       0.415, 0.415, 0.425, 0.42 , 0.43 ])"
            ]
          },
          "metadata": {},
          "execution_count": 340
        }
      ]
    },
    {
      "cell_type": "code",
      "source": [
        "Ks = 15\n",
        "mean_acc_pca5 = np.zeros((Ks-1))\n",
        "for n in range(1, Ks):\n",
        " model_knn_pca5 = KNeighborsClassifier(n_neighbors = n).fit(X_train_pca5, Y_train_pca5)\n",
        " y_pred_pca5 = model_knn_pca5.predict(X_test_pca5)\n",
        " mean_acc_pca5[n-1] = accuracy_score(Y_test_pca5, Y_pred_pca5)\n",
        "mean_acc_pca5"
      ],
      "metadata": {
        "colab": {
          "base_uri": "https://localhost:8080/"
        },
        "id": "bXlrfNVg1NtV",
        "outputId": "7f8dcabf-ace4-48cb-aa80-05feebcf0129"
      },
      "execution_count": null,
      "outputs": [
        {
          "output_type": "execute_result",
          "data": {
            "text/plain": [
              "array([0.37, 0.37, 0.37, 0.37, 0.37, 0.37, 0.37, 0.37, 0.37, 0.37, 0.37,\n",
              "       0.37, 0.37, 0.37])"
            ]
          },
          "metadata": {},
          "execution_count": 341
        }
      ]
    },
    {
      "cell_type": "code",
      "source": [
        "plt.plot(range(1,Ks), mean_acc_pca8, 'r')\n",
        "plt.ylabel('Akurasi')\n",
        "plt.xlabel('Jumlah Tetangga (K)')\n",
        "plt.tight_layout()\n",
        "plt.show()"
      ],
      "metadata": {
        "colab": {
          "base_uri": "https://localhost:8080/",
          "height": 297
        },
        "id": "sxUeRexhNwm3",
        "outputId": "07f307c6-aa68-4cc5-8464-ed30fc447c54"
      },
      "execution_count": null,
      "outputs": [
        {
          "output_type": "display_data",
          "data": {
            "text/plain": [
              "<Figure size 432x288 with 1 Axes>"
            ],
            "image/png": "[encoded data removed]"
          },
          "metadata": {
            "needs_background": "light"
          }
        }
      ]
    },
    {
      "cell_type": "code",
      "source": [
        "print('Akurasi terbaik adalah ', mean_acc_pca8.max(), 'dengan nilai k =', mean_acc_pca8.argmax()+1)\n"
      ],
      "metadata": {
        "colab": {
          "base_uri": "https://localhost:8080/"
        },
        "id": "ATvBa5yIN4KR",
        "outputId": "dbd59bcd-b695-44bc-eda7-9d8335bcc79f"
      },
      "execution_count": null,
      "outputs": [
        {
          "output_type": "stream",
          "name": "stdout",
          "text": [
            "Akurasi terbaik adalah  0.43 dengan nilai k = 14\n"
          ]
        }
      ]
    },
    {
      "cell_type": "code",
      "source": [
        "plt.plot(range(1,Ks), mean_acc_pca5, 'r')\n",
        "plt.ylabel('Akurasi')\n",
        "plt.xlabel('Jumlah Tetangga (K)')\n",
        "plt.tight_layout()\n",
        "plt.show()"
      ],
      "metadata": {
        "colab": {
          "base_uri": "https://localhost:8080/",
          "height": 297
        },
        "id": "28qOFGuQ4UN3",
        "outputId": "7a6f5f65-c0bb-4fb4-ed48-255373d6c7ac"
      },
      "execution_count": null,
      "outputs": [
        {
          "output_type": "display_data",
          "data": {
            "text/plain": [
              "<Figure size 432x288 with 1 Axes>"
            ],
            "image/png": "[encoded data removed]"
          },
          "metadata": {
            "needs_background": "light"
          }
        }
      ]
    }
  ]
}