{
  "nbformat": 4,
  "nbformat_minor": 0,
  "metadata": {
    "colab": {
      "provenance": [],
      "authorship_tag": "ABX9TyP4piidnKIEckHZV0u5S42L",
      "include_colab_link": true
    },
    "kernelspec": {
      "name": "python3",
      "display_name": "Python 3"
    },
    "language_info": {
      "name": "python"
    }
  },
  "cells": [
    {
      "cell_type": "markdown",
      "metadata": {
        "id": "view-in-github",
        "colab_type": "text"
      },
      "source": [
        "<a href=\"https://colab.research.google.com/github/Nurochman79/DataScience/blob/main/Data_pre_processing_data_online_order.ipynb\" target=\"_parent\"><img src=\"https://colab.research.google.com/assets/colab-badge.svg\" alt=\"Open In Colab\"/></a>"
      ]
    },
    {
      "cell_type": "code",
      "execution_count": 1,
      "metadata": {
        "id": "ERuCnYE5OR64"
      },
      "outputs": [],
      "source": [
        "import pandas as pd\n",
        "import numpy as np\n",
        "import matplotlib.pyplot as plt\n",
        "import seaborn as sns"
      ]
    },
    {
      "cell_type": "code",
      "source": [
        "data_order = pd.read_excel('/content/Online Order 1-30 Mei 2024.xlsx')\n",
        "data_order.info()"
      ],
      "metadata": {
        "colab": {
          "base_uri": "https://localhost:8080/"
        },
        "id": "Q4GBLksoOrJ3",
        "outputId": "a134d7f7-0c26-489c-b7e3-97c600cab94c"
      },
      "execution_count": 3,
      "outputs": [
        {
          "output_type": "stream",
          "name": "stdout",
          "text": [
            "<class 'pandas.core.frame.DataFrame'>\n",
            "RangeIndex: 72533 entries, 0 to 72532\n",
            "Data columns (total 50 columns):\n",
            " #   Column                       Non-Null Count  Dtype  \n",
            "---  ------                       --------------  -----  \n",
            " 0   Order Number                 72533 non-null  object \n",
            " 1   Order Status                 72533 non-null  object \n",
            " 2   Cancelation Reason           6605 non-null   object \n",
            " 3   Cancelation Status           535 non-null    object \n",
            " 4   Resi Number                  65788 non-null  object \n",
            " 5   Delivery Metodh              72533 non-null  object \n",
            " 6   Pick up Status               65788 non-null  object \n",
            " 7   Time of SLA                  68410 non-null  object \n",
            " 8   Target of Delivery Order     65697 non-null  object \n",
            " 9   Date of Make Order           72533 non-null  object \n",
            " 10  Payment Time                 72533 non-null  object \n",
            " 11  Payment Method               72533 non-null  object \n",
            " 12  Product Category             55504 non-null  object \n",
            " 13  Product Name                 72533 non-null  object \n",
            " 14  Product Ref Number           72501 non-null  object \n",
            " 15  Varience Name                25393 non-null  object \n",
            " 16  Product Price                72533 non-null  int64  \n",
            " 17  Dicount Price                72533 non-null  int64  \n",
            " 18  Number                       72533 non-null  int64  \n",
            " 19  Returned quantity            72533 non-null  int64  \n",
            " 20  Total Product Price          72533 non-null  int64  \n",
            " 21  Discount Total               72533 non-null  int64  \n",
            " 22  Discount by Seller           72533 non-null  int64  \n",
            " 23  Discount by Sophee           72533 non-null  int64  \n",
            " 24  Product Weigth (gr)          72533 non-null  object \n",
            " 25  Number of Product Oder       72533 non-null  int64  \n",
            " 26  Total of Produc Weigth (gr)  72533 non-null  object \n",
            " 27  Voucher by Seller            72533 non-null  int64  \n",
            " 28  Cashback Coin                72533 non-null  int64  \n",
            " 29  Voucher by Shopee            72533 non-null  int64  \n",
            " 30  Discount Package             72533 non-null  object \n",
            " 31  Discount Package by Shopee   72533 non-null  int64  \n",
            " 32  Discount Package by Seller   72533 non-null  int64  \n",
            " 33  Discount Coin by Shopee      72533 non-null  int64  \n",
            " 34  Discout by Credit Card       72533 non-null  int64  \n",
            " 35  Delivery Cost by Seller      72533 non-null  int64  \n",
            " 36  Discount of Delivery Cost    72533 non-null  int64  \n",
            " 37  Total Payment                72533 non-null  int64  \n",
            " 38  Unnamed: 38                  0 non-null      float64\n",
            " 39  Estimation - Delivery Cost   72533 non-null  int64  \n",
            " 40  Noted from Buyer             5444 non-null   object \n",
            " 41  Remark                       0 non-null      float64\n",
            " 42  Buyer                        72510 non-null  object \n",
            " 43  Reciever                     72533 non-null  object \n",
            " 44  No. Telepon                  72533 non-null  object \n",
            " 45  Address buyer                72533 non-null  object \n",
            " 46  City                         72533 non-null  object \n",
            " 47  Propince                     72533 non-null  object \n",
            " 48  Time of finished order       63005 non-null  object \n",
            " 49  Unnamed: 49                  29667 non-null  float64\n",
            "dtypes: float64(3), int64(20), object(27)\n",
            "memory usage: 27.7+ MB\n"
          ]
        }
      ]
    }
  ]
}